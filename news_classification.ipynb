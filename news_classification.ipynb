{
 "cells": [
  {
   "cell_type": "code",
   "execution_count": 20,
   "metadata": {
    "collapsed": true,
    "pycharm": {
     "is_executing": false
    }
   },
   "outputs": [],
   "source": [
    "import torch.optim as optim\n",
    "import random\n",
    "\n",
    "from fastai.text import *\n",
    "from fastai import *\n",
    "from fastai.callbacks import *\n",
    "from transformers import AdamW\n",
    "\n",
    "from transformers import BertForSequenceClassification, BertTokenizer, BertConfig\n",
    "from transformers import RobertaForSequenceClassification, RobertaTokenizer, RobertaConfig\n",
    "from transformers import XLNetForSequenceClassification, XLNetTokenizer, XLNetConfig\n",
    "from transformers import XLMForSequenceClassification, XLMTokenizer, XLMConfig\n",
    "from transformers import DistilBertForSequenceClassification, DistilBertTokenizer, DistilBertConfig\n",
    "from transformers import PreTrainedModel, PreTrainedTokenizer, PretrainedConfig"
   ]
  },
  {
   "cell_type": "code",
   "execution_count": 2,
   "outputs": [],
   "source": [
    "MODEL_CLASSES = {\n",
    "    'bert': (BertForSequenceClassification, BertTokenizer, BertConfig),\n",
    "    'roberta': (RobertaForSequenceClassification, RobertaTokenizer, RobertaConfig),\n",
    "    'xlnet': (XLNetForSequenceClassification, XLNetTokenizer, XLNetConfig),\n",
    "    'xlm': (XLMForSequenceClassification, XLMTokenizer, XLMConfig),\n",
    "    'distilbert': (DistilBertForSequenceClassification, DistilBertTokenizer, DistilBertConfig)\n",
    "}"
   ],
   "metadata": {
    "collapsed": false,
    "pycharm": {
     "name": "#%%\n",
     "is_executing": false
    }
   }
  },
  {
   "cell_type": "code",
   "execution_count": 3,
   "outputs": [],
   "source": [
    "seed = 42\n",
    "use_fp16 = False\n",
    "bs = 16\n",
    "\n",
    "model_type = 'bert'\n",
    "pretrained_model_name = 'bert-base-multilingual-cased'\n",
    "pretrained_model_path = 'model/bert4vn/pytorch_model.bin'\n",
    "\n",
    "# model_type = 'bert'\n",
    "# pretrained_model_name='bert-base-uncased'\n",
    "\n",
    "# model_type = 'distilbert'\n",
    "# pretrained_model_name = 'distilbert-base-uncased'\n",
    "\n",
    "#model_type = 'xlm'\n",
    "#pretrained_model_name = 'xlm-clm-enfr-1024'\n",
    "\n",
    "# model_type = 'xlnet'\n",
    "# pretrained_model_name = 'xlnet-base-cased'"
   ],
   "metadata": {
    "collapsed": false,
    "pycharm": {
     "name": "#%%\n",
     "is_executing": false
    }
   }
  },
  {
   "cell_type": "code",
   "execution_count": 4,
   "outputs": [],
   "source": [
    "model_class, tokenizer_class, config_class = MODEL_CLASSES[model_type]"
   ],
   "metadata": {
    "collapsed": false,
    "pycharm": {
     "name": "#%%\n",
     "is_executing": false
    }
   }
  },
  {
   "cell_type": "code",
   "execution_count": 5,
   "outputs": [],
   "source": [
    "path = Path('.')\n",
    "train = pd.read_csv(path/'medical_data/title/train.csv', sep='\\t')\n",
    "test = pd.read_csv(path/'medical_data/title/test.csv', sep='\\t')"
   ],
   "metadata": {
    "collapsed": false,
    "pycharm": {
     "name": "#%%\n",
     "is_executing": false
    }
   }
  },
  {
   "cell_type": "code",
   "execution_count": 6,
   "outputs": [],
   "source": [
    "def seed_all(seed_value):\n",
    "    random.seed(seed_value)\n",
    "    np.random.seed(seed_value)\n",
    "    torch.manual_seed(seed_value)\n",
    "    \n",
    "    if torch.cuda.is_available():\n",
    "        torch.cuda.manual_seed(seed_value)\n",
    "        torch.cuda.manual_seed_all(seed_value)\n",
    "        torch.backends.cudnn.deterministic = True\n",
    "        torch.backends.cudnn.benchmark = False"
   ],
   "metadata": {
    "collapsed": false,
    "pycharm": {
     "name": "#%%\n",
     "is_executing": false
    }
   }
  },
  {
   "cell_type": "code",
   "execution_count": 7,
   "outputs": [],
   "source": [
    "seed_all(seed)"
   ],
   "metadata": {
    "collapsed": false,
    "pycharm": {
     "name": "#%%\n",
     "is_executing": false
    }
   }
  },
  {
   "cell_type": "code",
   "execution_count": 8,
   "outputs": [],
   "source": [
    "class TransformersBaseTokenizer(BaseTokenizer):\n",
    "    \"\"\"Wrapper PretrainedTokenizer with tokenizer of fastai\"\"\"\n",
    "    def __init__(self, pretrained_tokenizer: PreTrainedTokenizer, model_type='bert'):\n",
    "        super(TransformersBaseTokenizer, self).__init__(lang='')\n",
    "        self._pretrained_tokenizer = pretrained_tokenizer\n",
    "        self.max_seq_len = pretrained_tokenizer.max_len\n",
    "        self.model_type = model_type\n",
    "        \n",
    "    def __call__(self, *args, **kwargs):\n",
    "        return self\n",
    "    \n",
    "    def tokenizer(self, t:str) -> List[str]:\n",
    "        \"\"\"Limits the maximum sequence length and add special tokens\"\"\"\n",
    "        CLS = self._pretrained_tokenizer.cls_token\n",
    "        SEP = self._pretrained_tokenizer.sep_token\n",
    "        \n",
    "        if self.model_type in ['roberta']:\n",
    "            tokens = self._pretrained_tokenizer.tokenize(t, add_prefix_space=True)[:self.max_seq_len - 2]\n",
    "            tokens = [CLS] + tokens + [SEP]\n",
    "        else:\n",
    "            tokens = self._pretrained_tokenizer.tokenize(t)[:self.max_seq_len - 2]\n",
    "            if self.model_type in ['xlnet']:\n",
    "                tokens = tokens + [SEP] + [CLS]\n",
    "            else:\n",
    "                tokens = [CLS] + tokens + [SEP]\n",
    "        return tokens"
   ],
   "metadata": {
    "collapsed": false,
    "pycharm": {
     "name": "#%%\n",
     "is_executing": false
    }
   }
  },
  {
   "cell_type": "code",
   "execution_count": 9,
   "outputs": [],
   "source": [
    "transformer_tokenizer = tokenizer_class.from_pretrained(pretrained_model_name)\n",
    "transformer_base_tokenizer = TransformersBaseTokenizer(pretrained_tokenizer=transformer_tokenizer, model_type=model_type)\n",
    "fastai_tokenizer = Tokenizer(tok_func=transformer_base_tokenizer, pre_rules=[], post_rules=[])\n"
   ],
   "metadata": {
    "collapsed": false,
    "pycharm": {
     "name": "#%%\n",
     "is_executing": false
    }
   }
  },
  {
   "cell_type": "code",
   "execution_count": 10,
   "outputs": [],
   "source": [
    "class TransformersVocab(Vocab):\n",
    "    def __init__(self, tokenizer: PreTrainedTokenizer):\n",
    "        super(TransformersVocab, self).__init__(itos=[])\n",
    "        self.tokenizer = tokenizer\n",
    "        \n",
    "    def numericalize(self, t:Collection[str]) -> List[int]:\n",
    "        \"\"\"Convert a list of tokens 't' to their ids\"\"\"\n",
    "        return self.tokenizer.convert_tokens_to_ids(t)\n",
    "    \n",
    "    def textify(self, nums:Collection[int], sep=' ') -> List[str]:\n",
    "        \"\"\"Convert a list of numbers to their tokens\"\"\"\n",
    "        nums = np.array(nums).tolist()\n",
    "        return (\n",
    "            sep.join(self.tokenizer.convert_ids_to_tokens(nums)) \n",
    "            if sep is not None \n",
    "            else self.tokenizer.convert_ids_to_tokens(nums)\n",
    "        )\n",
    "    \n",
    "    def __getstate__(self):\n",
    "        return {'itos': self.itos, 'tokenizer': self.tokenizer}\n",
    "    \n",
    "    def __setstate__(self, state: dict):\n",
    "        self.itos = state['itos']\n",
    "        self.tokenizer = state['tokenizer']\n",
    "        self.stoi = collections.defaultdict(int, {v: k for k, v in enumerate(self.itos)})"
   ],
   "metadata": {
    "collapsed": false,
    "pycharm": {
     "name": "#%%\n",
     "is_executing": false
    }
   }
  },
  {
   "cell_type": "code",
   "execution_count": 11,
   "outputs": [],
   "source": [
    "transformer_vocab = TransformersVocab(tokenizer=transformer_tokenizer)\n",
    "numericalize_processor = NumericalizeProcessor(vocab=transformer_vocab)\n",
    "\n",
    "tokenize_processor = TokenizeProcessor(tokenizer=fastai_tokenizer, \n",
    "                                       include_bos=False, \n",
    "                                       include_eos=False)\n",
    "\n",
    "transformer_processor = [tokenize_processor, numericalize_processor]"
   ],
   "metadata": {
    "collapsed": false,
    "pycharm": {
     "name": "#%%\n",
     "is_executing": false
    }
   }
  },
  {
   "cell_type": "code",
   "execution_count": 12,
   "outputs": [],
   "source": [
    "pad_first = bool(model_type in ['xlnet'])\n",
    "pad_idx = transformer_tokenizer.pad_token_id"
   ],
   "metadata": {
    "collapsed": false,
    "pycharm": {
     "name": "#%%\n",
     "is_executing": false
    }
   }
  },
  {
   "cell_type": "code",
   "execution_count": 13,
   "outputs": [
    {
     "data": {
      "text/plain": "<IPython.core.display.HTML object>",
      "text/html": "\n    <div>\n        <style>\n            /* Turns off some styling */\n            progress {\n                /* gets rid of default border in Firefox and Opera. */\n                border: none;\n                /* Needs to be in here for Safari polyfill so background images work as expected. */\n                background-size: auto;\n            }\n            .progress-bar-interrupted, .progress-bar-interrupted::-webkit-progress-bar {\n                background: #F44336;\n            }\n        </style>\n      <progress value='0' class='' max='15', style='width:300px; height:20px; vertical-align: middle;'></progress>\n      \n    </div>\n    "
     },
     "metadata": {},
     "output_type": "display_data"
    },
    {
     "data": {
      "text/plain": "<IPython.core.display.HTML object>",
      "text/html": "\n    <div>\n        <style>\n            /* Turns off some styling */\n            progress {\n                /* gets rid of default border in Firefox and Opera. */\n                border: none;\n                /* Needs to be in here for Safari polyfill so background images work as expected. */\n                background-size: auto;\n            }\n            .progress-bar-interrupted, .progress-bar-interrupted::-webkit-progress-bar {\n                background: #F44336;\n            }\n        </style>\n      <progress value='0' class='' max='2', style='width:300px; height:20px; vertical-align: middle;'></progress>\n      \n    </div>\n    "
     },
     "metadata": {},
     "output_type": "display_data"
    },
    {
     "data": {
      "text/plain": "<IPython.core.display.HTML object>",
      "text/html": "\n    <div>\n        <style>\n            /* Turns off some styling */\n            progress {\n                /* gets rid of default border in Firefox and Opera. */\n                border: none;\n                /* Needs to be in here for Safari polyfill so background images work as expected. */\n                background-size: auto;\n            }\n            .progress-bar-interrupted, .progress-bar-interrupted::-webkit-progress-bar {\n                background: #F44336;\n            }\n        </style>\n      <progress value='0' class='' max='7', style='width:300px; height:20px; vertical-align: middle;'></progress>\n      \n    </div>\n    "
     },
     "metadata": {},
     "output_type": "display_data"
    }
   ],
   "source": [
    "databunch = (TextList.from_df(train, cols='text', processor=transformer_processor)\n",
    "             .split_by_rand_pct(0.1, seed=seed)\n",
    "             .label_from_df(cols='label')\n",
    "             .add_test(test)\n",
    "             .databunch(bs=bs, pad_first=pad_first, pad_idx=pad_idx))"
   ],
   "metadata": {
    "collapsed": false,
    "pycharm": {
     "name": "#%%\n",
     "is_executing": false
    }
   }
  },
  {
   "cell_type": "code",
   "execution_count": 14,
   "outputs": [
    {
     "name": "stdout",
     "text": [
      "[CLS] token:  <s>\n[SEP] token:  </s>\n[PAD] token:  <pad>\n"
     ],
     "output_type": "stream"
    },
    {
     "data": {
      "text/plain": "<IPython.core.display.HTML object>",
      "text/html": "<table border=\"1\" class=\"dataframe\">\n  <thead>\n    <tr style=\"text-align: right;\">\n      <th>text</th>\n      <th>target</th>\n    </tr>\n  </thead>\n  <tbody>\n    <tr>\n      <td>&lt;s&gt; Ġ- L RB - ĠCity Ġ- RR B - Ġreminds Ġus Ġhow Ġrealistically Ġnuanced Ġa ĠRobert ĠDe ĠN iro Ġperformance Ġcan Ġbe Ġwhen Ġhe Ġis Ġnot Ġmore Ġluc r atively Ġengaged Ġin Ġthe Ġshameless Ġself - car ic ature Ġof Ġ` ĠAnaly ze ĠThis Ġ' Ġ- L RB - Ġ1999 Ġ- RR B - Ġand Ġ` ĠAnaly ze ĠThat Ġ, Ġ' Ġpromised Ġ- L RB - Ġor Ġthreatened Ġ-</td>\n      <td>3</td>\n    </tr>\n    <tr>\n      <td>&lt;s&gt; ĠThe Ġreal Ġtriumph s Ġin ĠIg by Ġcome Ġfrom ĠPhilippe Ġ, Ġwho Ġmakes ĠOliver Ġfar Ġmore Ġinteresting Ġthan Ġthe Ġcharacter Ġ' s Ġlines Ġwould Ġsuggest Ġ, Ġand ĠSar andon Ġ, Ġwho Ġcould Ġn 't Ġbe Ġbetter Ġas Ġa Ġcruel Ġbut Ġweird ly Ġlik able ĠWAS P Ġmat ron Ġ. &lt;/s&gt;</td>\n      <td>3</td>\n    </tr>\n    <tr>\n      <td>&lt;s&gt; ĠParker Ġshould Ġbe Ġcomm ended Ġfor Ġtaking Ġa Ġfresh Ġapproach Ġto Ġfamiliar Ġmaterial Ġ, Ġbut Ġhis Ġdetermination Ġto Ġremain Ġtrue Ġto Ġthe Ġoriginal Ġtext Ġleads Ġhim Ġto Ġadopt Ġa Ġsomewhat Ġman nered Ġtone Ġ... Ġthat Ġultimately Ġdull s Ġthe Ġhuman Ġtragedy Ġat Ġthe Ġstory Ġ' s Ġcore &lt;/s&gt;</td>\n      <td>2</td>\n    </tr>\n    <tr>\n      <td>&lt;s&gt; ĠIt Ġ' s Ġa Ġlong Ġway Ġfrom ĠOrwell Ġ' s Ġdark Ġ, Ġintelligent Ġwarning Ġcry Ġ- L RB - Ġ1984 Ġ- RR B - Ġto Ġthe Ġempty Ġstud Ġknock about Ġof ĠEqu ilibrium Ġ, Ġand Ġwhat Ġonce Ġwas Ġconviction Ġis Ġnow Ġaffect ation Ġ. &lt;/s&gt;</td>\n      <td>1</td>\n    </tr>\n    <tr>\n      <td>&lt;s&gt; ĠA Ġdifferent Ġand Ġemotionally Ġreserved Ġtype Ġof Ġsurvival Ġstory Ġ-- Ġa Ġfilm Ġless Ġabout Ġref ract ing Ġall Ġof ĠWorld ĠWar ĠII Ġthrough Ġthe Ġspecific Ġconditions Ġof Ġone Ġman Ġ, Ġand Ġmore Ġabout Ġthat Ġman Ġlost Ġin Ġits Ġmidst Ġ. &lt;/s&gt;</td>\n      <td>3</td>\n    </tr>\n  </tbody>\n</table>"
     },
     "metadata": {},
     "output_type": "display_data"
    }
   ],
   "source": [
    "print(\"[CLS] token: \", transformer_tokenizer.cls_token)\n",
    "print(\"[SEP] token: \", transformer_tokenizer.sep_token)\n",
    "print(\"[PAD] token: \", transformer_tokenizer.pad_token)\n",
    "databunch.show_batch()"
   ],
   "metadata": {
    "collapsed": false,
    "pycharm": {
     "name": "#%%\n",
     "is_executing": false
    }
   }
  },
  {
   "cell_type": "code",
   "execution_count": 15,
   "outputs": [
    {
     "name": "stdout",
     "text": [
      "[CLS] id:  0\n[SEP] id:  2\n[PAD] id:  1\n",
      "Batch shape:  torch.Size([16, 79])\ntensor([[    0,   111,   574,  ...,    76,   479,     2],\n        [    0,    33,     7,  ...,     1,     1,     1],\n        [    0,   318,    47,  ...,     1,     1,     1],\n        ...,\n        [    0,     5,  2156,  ...,     1,     1,     1],\n        [    0,    33, 30291,  ...,     1,     1,     1],\n        [    0, 45518, 10730,  ...,     1,     1,     1]])\n"
     ],
     "output_type": "stream"
    }
   ],
   "source": [
    "print(\"[CLS] id: \", transformer_tokenizer.cls_token_id)\n",
    "print(\"[SEP] id: \", transformer_tokenizer.sep_token_id)\n",
    "print(\"[PAD] id: \", pad_idx)\n",
    "test_one_batch = databunch.one_batch()[0]\n",
    "print('Batch shape: ', test_one_batch.shape)\n",
    "print(test_one_batch)"
   ],
   "metadata": {
    "collapsed": false,
    "pycharm": {
     "name": "#%%\n",
     "is_executing": false
    }
   }
  },
  {
   "cell_type": "code",
   "execution_count": 16,
   "outputs": [],
   "source": [
    "class CustomTransformerModel(nn.Module):\n",
    "    def __init__(self, transformer_model: PreTrainedModel):\n",
    "        super(CustomTransformerModel, self).__init__()\n",
    "        self.transformer = transformer_model\n",
    "        \n",
    "    def forward(self, input_ids, attention_mask=None):\n",
    "        attention_mask = (input_ids != pad_idx).type(input_ids.type())\n",
    "        logits = self.transformer(input_ids, attention_mask=attention_mask)[0]\n",
    "        return logits"
   ],
   "metadata": {
    "collapsed": false,
    "pycharm": {
     "name": "#%%\n",
     "is_executing": false
    }
   }
  },
  {
   "cell_type": "code",
   "execution_count": 17,
   "outputs": [
    {
     "name": "stdout",
     "text": [
      "RobertaConfig {\n  \"_num_labels\": 5,\n  \"architectures\": [\n    \"RobertaForMaskedLM\"\n  ],\n  \"attention_probs_dropout_prob\": 0.1,\n  \"bos_token_id\": 0,\n  \"do_sample\": false,\n  \"early_stopping\": false,\n  \"eos_token_id\": 2,\n  \"finetuning_task\": null,\n  \"hidden_act\": \"gelu\",\n  \"hidden_dropout_prob\": 0.1,\n  \"hidden_size\": 768,\n  \"id2label\": {\n    \"0\": \"LABEL_0\",\n    \"1\": \"LABEL_1\",\n    \"2\": \"LABEL_2\",\n    \"3\": \"LABEL_3\",\n    \"4\": \"LABEL_4\"\n  },\n  \"initializer_range\": 0.02,\n  \"intermediate_size\": 3072,\n  \"is_decoder\": false,\n  \"is_encoder_decoder\": false,\n  \"label2id\": {\n    \"LABEL_0\": 0,\n    \"LABEL_1\": 1,\n    \"LABEL_2\": 2,\n    \"LABEL_3\": 3,\n    \"LABEL_4\": 4\n  },\n  \"layer_norm_eps\": 1e-05,\n  \"length_penalty\": 1.0,\n  \"max_length\": 20,\n  \"max_position_embeddings\": 514,\n  \"min_length\": 0,\n  \"model_type\": \"roberta\",\n  \"no_repeat_ngram_size\": 0,\n  \"num_attention_heads\": 12,\n  \"num_beams\": 1,\n  \"num_hidden_layers\": 12,\n  \"num_return_sequences\": 1,\n  \"output_attentions\": false,\n  \"output_hidden_states\": false,\n  \"output_past\": true,\n  \"pad_token_id\": 1,\n  \"pruned_heads\": {},\n  \"repetition_penalty\": 1.0,\n  \"temperature\": 1.0,\n  \"top_k\": 50,\n  \"top_p\": 1.0,\n  \"torchscript\": false,\n  \"type_vocab_size\": 1,\n  \"use_bfloat16\": false,\n  \"vocab_size\": 50265\n}\n\n"
     ],
     "output_type": "stream"
    }
   ],
   "source": [
    "config = config_class.from_pretrained(pretrained_model_name)\n",
    "config.num_labels = 5\n",
    "config.use_bfloat16 = use_fp16\n",
    "print(config)"
   ],
   "metadata": {
    "collapsed": false,
    "pycharm": {
     "name": "#%%\n",
     "is_executing": false
    }
   }
  },
  {
   "cell_type": "code",
   "execution_count": 18,
   "outputs": [],
   "source": [
    "transfromer_model = model_class.from_pretrained(pretrained_model_name_or_path=path/'model/roberta-base/pytorch_model.bin', config=config)\n",
    "custom_transformer_model = CustomTransformerModel(transformer_model=transfromer_model)"
   ],
   "metadata": {
    "collapsed": false,
    "pycharm": {
     "name": "#%%\n",
     "is_executing": false
    }
   }
  },
  {
   "cell_type": "code",
   "execution_count": 21,
   "outputs": [],
   "source": [
    "CustomAdamW = partial(AdamW, correct_bias=False)\n",
    "\n",
    "learner = Learner(\n",
    "    databunch,\n",
    "    custom_transformer_model,\n",
    "    opt_func=CustomAdamW,\n",
    "    metrics=[accuracy, error_rate]\n",
    ")\n",
    "\n",
    "learner.callbacks.append(ShowGraph(learner))\n",
    "\n",
    "if use_fp16:\n",
    "    learner = learner.to_fp16()"
   ],
   "metadata": {
    "collapsed": false,
    "pycharm": {
     "name": "#%%\n",
     "is_executing": false
    }
   }
  },
  {
   "cell_type": "code",
   "execution_count": 22,
   "outputs": [
    {
     "name": "stdout",
     "text": [
      "CustomTransformerModel(\n  (transformer): RobertaForSequenceClassification(\n    (roberta): RobertaModel(\n      (embeddings): RobertaEmbeddings(\n        (word_embeddings): Embedding(50265, 768, padding_idx=1)\n        (position_embeddings): Embedding(514, 768, padding_idx=1)\n        (token_type_embeddings): Embedding(1, 768)\n        (LayerNorm): LayerNorm((768,), eps=1e-05, elementwise_affine=True)\n        (dropout): Dropout(p=0.1, inplace=False)\n      )\n      (encoder): BertEncoder(\n        (layer): ModuleList(\n          (0): BertLayer(\n            (attention): BertAttention(\n              (self): BertSelfAttention(\n                (query): Linear(in_features=768, out_features=768, bias=True)\n                (key): Linear(in_features=768, out_features=768, bias=True)\n                (value): Linear(in_features=768, out_features=768, bias=True)\n                (dropout): Dropout(p=0.1, inplace=False)\n              )\n              (output): BertSelfOutput(\n                (dense): Linear(in_features=768, out_features=768, bias=True)\n                (LayerNorm): LayerNorm((768,), eps=1e-05, elementwise_affine=True)\n                (dropout): Dropout(p=0.1, inplace=False)\n              )\n            )\n            (intermediate): BertIntermediate(\n              (dense): Linear(in_features=768, out_features=3072, bias=True)\n            )\n            (output): BertOutput(\n              (dense): Linear(in_features=3072, out_features=768, bias=True)\n              (LayerNorm): LayerNorm((768,), eps=1e-05, elementwise_affine=True)\n              (dropout): Dropout(p=0.1, inplace=False)\n            )\n          )\n          (1): BertLayer(\n            (attention): BertAttention(\n              (self): BertSelfAttention(\n                (query): Linear(in_features=768, out_features=768, bias=True)\n                (key): Linear(in_features=768, out_features=768, bias=True)\n                (value): Linear(in_features=768, out_features=768, bias=True)\n                (dropout): Dropout(p=0.1, inplace=False)\n              )\n              (output): BertSelfOutput(\n                (dense): Linear(in_features=768, out_features=768, bias=True)\n                (LayerNorm): LayerNorm((768,), eps=1e-05, elementwise_affine=True)\n                (dropout): Dropout(p=0.1, inplace=False)\n              )\n            )\n            (intermediate): BertIntermediate(\n              (dense): Linear(in_features=768, out_features=3072, bias=True)\n            )\n            (output): BertOutput(\n              (dense): Linear(in_features=3072, out_features=768, bias=True)\n              (LayerNorm): LayerNorm((768,), eps=1e-05, elementwise_affine=True)\n              (dropout): Dropout(p=0.1, inplace=False)\n            )\n          )\n          (2): BertLayer(\n            (attention): BertAttention(\n              (self): BertSelfAttention(\n                (query): Linear(in_features=768, out_features=768, bias=True)\n                (key): Linear(in_features=768, out_features=768, bias=True)\n                (value): Linear(in_features=768, out_features=768, bias=True)\n                (dropout): Dropout(p=0.1, inplace=False)\n              )\n              (output): BertSelfOutput(\n                (dense): Linear(in_features=768, out_features=768, bias=True)\n                (LayerNorm): LayerNorm((768,), eps=1e-05, elementwise_affine=True)\n                (dropout): Dropout(p=0.1, inplace=False)\n              )\n            )\n            (intermediate): BertIntermediate(\n              (dense): Linear(in_features=768, out_features=3072, bias=True)\n            )\n            (output): BertOutput(\n              (dense): Linear(in_features=3072, out_features=768, bias=True)\n              (LayerNorm): LayerNorm((768,), eps=1e-05, elementwise_affine=True)\n              (dropout): Dropout(p=0.1, inplace=False)\n            )\n          )\n          (3): BertLayer(\n            (attention): BertAttention(\n              (self): BertSelfAttention(\n                (query): Linear(in_features=768, out_features=768, bias=True)\n                (key): Linear(in_features=768, out_features=768, bias=True)\n                (value): Linear(in_features=768, out_features=768, bias=True)\n                (dropout): Dropout(p=0.1, inplace=False)\n              )\n              (output): BertSelfOutput(\n                (dense): Linear(in_features=768, out_features=768, bias=True)\n                (LayerNorm): LayerNorm((768,), eps=1e-05, elementwise_affine=True)\n                (dropout): Dropout(p=0.1, inplace=False)\n              )\n            )\n            (intermediate): BertIntermediate(\n              (dense): Linear(in_features=768, out_features=3072, bias=True)\n            )\n            (output): BertOutput(\n              (dense): Linear(in_features=3072, out_features=768, bias=True)\n              (LayerNorm): LayerNorm((768,), eps=1e-05, elementwise_affine=True)\n              (dropout): Dropout(p=0.1, inplace=False)\n            )\n          )\n          (4): BertLayer(\n            (attention): BertAttention(\n              (self): BertSelfAttention(\n                (query): Linear(in_features=768, out_features=768, bias=True)\n                (key): Linear(in_features=768, out_features=768, bias=True)\n                (value): Linear(in_features=768, out_features=768, bias=True)\n                (dropout): Dropout(p=0.1, inplace=False)\n              )\n              (output): BertSelfOutput(\n                (dense): Linear(in_features=768, out_features=768, bias=True)\n                (LayerNorm): LayerNorm((768,), eps=1e-05, elementwise_affine=True)\n                (dropout): Dropout(p=0.1, inplace=False)\n              )\n            )\n            (intermediate): BertIntermediate(\n              (dense): Linear(in_features=768, out_features=3072, bias=True)\n            )\n            (output): BertOutput(\n              (dense): Linear(in_features=3072, out_features=768, bias=True)\n              (LayerNorm): LayerNorm((768,), eps=1e-05, elementwise_affine=True)\n              (dropout): Dropout(p=0.1, inplace=False)\n            )\n          )\n          (5): BertLayer(\n            (attention): BertAttention(\n              (self): BertSelfAttention(\n                (query): Linear(in_features=768, out_features=768, bias=True)\n                (key): Linear(in_features=768, out_features=768, bias=True)\n                (value): Linear(in_features=768, out_features=768, bias=True)\n                (dropout): Dropout(p=0.1, inplace=False)\n              )\n              (output): BertSelfOutput(\n                (dense): Linear(in_features=768, out_features=768, bias=True)\n                (LayerNorm): LayerNorm((768,), eps=1e-05, elementwise_affine=True)\n                (dropout): Dropout(p=0.1, inplace=False)\n              )\n            )\n            (intermediate): BertIntermediate(\n              (dense): Linear(in_features=768, out_features=3072, bias=True)\n            )\n            (output): BertOutput(\n              (dense): Linear(in_features=3072, out_features=768, bias=True)\n              (LayerNorm): LayerNorm((768,), eps=1e-05, elementwise_affine=True)\n              (dropout): Dropout(p=0.1, inplace=False)\n            )\n          )\n          (6): BertLayer(\n            (attention): BertAttention(\n              (self): BertSelfAttention(\n                (query): Linear(in_features=768, out_features=768, bias=True)\n                (key): Linear(in_features=768, out_features=768, bias=True)\n                (value): Linear(in_features=768, out_features=768, bias=True)\n                (dropout): Dropout(p=0.1, inplace=False)\n              )\n              (output): BertSelfOutput(\n                (dense): Linear(in_features=768, out_features=768, bias=True)\n                (LayerNorm): LayerNorm((768,), eps=1e-05, elementwise_affine=True)\n                (dropout): Dropout(p=0.1, inplace=False)\n              )\n            )\n            (intermediate): BertIntermediate(\n              (dense): Linear(in_features=768, out_features=3072, bias=True)\n            )\n            (output): BertOutput(\n              (dense): Linear(in_features=3072, out_features=768, bias=True)\n              (LayerNorm): LayerNorm((768,), eps=1e-05, elementwise_affine=True)\n              (dropout): Dropout(p=0.1, inplace=False)\n            )\n          )\n          (7): BertLayer(\n            (attention): BertAttention(\n              (self): BertSelfAttention(\n                (query): Linear(in_features=768, out_features=768, bias=True)\n                (key): Linear(in_features=768, out_features=768, bias=True)\n                (value): Linear(in_features=768, out_features=768, bias=True)\n                (dropout): Dropout(p=0.1, inplace=False)\n              )\n              (output): BertSelfOutput(\n                (dense): Linear(in_features=768, out_features=768, bias=True)\n                (LayerNorm): LayerNorm((768,), eps=1e-05, elementwise_affine=True)\n                (dropout): Dropout(p=0.1, inplace=False)\n              )\n            )\n            (intermediate): BertIntermediate(\n              (dense): Linear(in_features=768, out_features=3072, bias=True)\n            )\n            (output): BertOutput(\n              (dense): Linear(in_features=3072, out_features=768, bias=True)\n              (LayerNorm): LayerNorm((768,), eps=1e-05, elementwise_affine=True)\n              (dropout): Dropout(p=0.1, inplace=False)\n            )\n          )\n          (8): BertLayer(\n            (attention): BertAttention(\n              (self): BertSelfAttention(\n                (query): Linear(in_features=768, out_features=768, bias=True)\n                (key): Linear(in_features=768, out_features=768, bias=True)\n                (value): Linear(in_features=768, out_features=768, bias=True)\n                (dropout): Dropout(p=0.1, inplace=False)\n              )\n              (output): BertSelfOutput(\n                (dense): Linear(in_features=768, out_features=768, bias=True)\n                (LayerNorm): LayerNorm((768,), eps=1e-05, elementwise_affine=True)\n                (dropout): Dropout(p=0.1, inplace=False)\n              )\n            )\n            (intermediate): BertIntermediate(\n              (dense): Linear(in_features=768, out_features=3072, bias=True)\n            )\n            (output): BertOutput(\n              (dense): Linear(in_features=3072, out_features=768, bias=True)\n              (LayerNorm): LayerNorm((768,), eps=1e-05, elementwise_affine=True)\n              (dropout): Dropout(p=0.1, inplace=False)\n            )\n          )\n          (9): BertLayer(\n            (attention): BertAttention(\n              (self): BertSelfAttention(\n                (query): Linear(in_features=768, out_features=768, bias=True)\n                (key): Linear(in_features=768, out_features=768, bias=True)\n                (value): Linear(in_features=768, out_features=768, bias=True)\n                (dropout): Dropout(p=0.1, inplace=False)\n              )\n              (output): BertSelfOutput(\n                (dense): Linear(in_features=768, out_features=768, bias=True)\n                (LayerNorm): LayerNorm((768,), eps=1e-05, elementwise_affine=True)\n                (dropout): Dropout(p=0.1, inplace=False)\n              )\n            )\n            (intermediate): BertIntermediate(\n              (dense): Linear(in_features=768, out_features=3072, bias=True)\n            )\n            (output): BertOutput(\n              (dense): Linear(in_features=3072, out_features=768, bias=True)\n              (LayerNorm): LayerNorm((768,), eps=1e-05, elementwise_affine=True)\n              (dropout): Dropout(p=0.1, inplace=False)\n            )\n          )\n          (10): BertLayer(\n            (attention): BertAttention(\n              (self): BertSelfAttention(\n                (query): Linear(in_features=768, out_features=768, bias=True)\n                (key): Linear(in_features=768, out_features=768, bias=True)\n                (value): Linear(in_features=768, out_features=768, bias=True)\n                (dropout): Dropout(p=0.1, inplace=False)\n              )\n              (output): BertSelfOutput(\n                (dense): Linear(in_features=768, out_features=768, bias=True)\n                (LayerNorm): LayerNorm((768,), eps=1e-05, elementwise_affine=True)\n                (dropout): Dropout(p=0.1, inplace=False)\n              )\n            )\n            (intermediate): BertIntermediate(\n              (dense): Linear(in_features=768, out_features=3072, bias=True)\n            )\n            (output): BertOutput(\n              (dense): Linear(in_features=3072, out_features=768, bias=True)\n              (LayerNorm): LayerNorm((768,), eps=1e-05, elementwise_affine=True)\n              (dropout): Dropout(p=0.1, inplace=False)\n            )\n          )\n          (11): BertLayer(\n            (attention): BertAttention(\n              (self): BertSelfAttention(\n                (query): Linear(in_features=768, out_features=768, bias=True)\n                (key): Linear(in_features=768, out_features=768, bias=True)\n                (value): Linear(in_features=768, out_features=768, bias=True)\n                (dropout): Dropout(p=0.1, inplace=False)\n              )\n              (output): BertSelfOutput(\n                (dense): Linear(in_features=768, out_features=768, bias=True)\n                (LayerNorm): LayerNorm((768,), eps=1e-05, elementwise_affine=True)\n                (dropout): Dropout(p=0.1, inplace=False)\n              )\n            )\n            (intermediate): BertIntermediate(\n              (dense): Linear(in_features=768, out_features=3072, bias=True)\n            )\n            (output): BertOutput(\n              (dense): Linear(in_features=3072, out_features=768, bias=True)\n              (LayerNorm): LayerNorm((768,), eps=1e-05, elementwise_affine=True)\n              (dropout): Dropout(p=0.1, inplace=False)\n            )\n          )\n        )\n      )\n      (pooler): BertPooler(\n        (dense): Linear(in_features=768, out_features=768, bias=True)\n        (activation): Tanh()\n      )\n    )\n    (classifier): RobertaClassificationHead(\n      (dense): Linear(in_features=768, out_features=768, bias=True)\n      (dropout): Dropout(p=0.1, inplace=False)\n      (out_proj): Linear(in_features=768, out_features=5, bias=True)\n    )\n  )\n)\n"
     ],
     "output_type": "stream"
    }
   ],
   "source": [
    "print(learner.model)"
   ],
   "metadata": {
    "collapsed": false,
    "pycharm": {
     "name": "#%%\n",
     "is_executing": false
    }
   }
  },
  {
   "cell_type": "code",
   "execution_count": 23,
   "outputs": [],
   "source": [
    "list_layers = [\n",
    "    learner.model.transformer.roberta.embeddings,\n",
    "    learner.model.transformer.roberta.encoder.layer[0],\n",
    "    learner.model.transformer.roberta.encoder.layer[1],\n",
    "    learner.model.transformer.roberta.encoder.layer[2],\n",
    "    learner.model.transformer.roberta.encoder.layer[3],\n",
    "    learner.model.transformer.roberta.encoder.layer[4],\n",
    "    learner.model.transformer.roberta.encoder.layer[5],\n",
    "    learner.model.transformer.roberta.encoder.layer[6],\n",
    "    learner.model.transformer.roberta.encoder.layer[7],\n",
    "    learner.model.transformer.roberta.encoder.layer[8],\n",
    "    learner.model.transformer.roberta.encoder.layer[9],\n",
    "    learner.model.transformer.roberta.encoder.layer[10],\n",
    "    learner.model.transformer.roberta.encoder.layer[11],\n",
    "    learner.model.transformer.roberta.pooler,\n",
    "]"
   ],
   "metadata": {
    "collapsed": false,
    "pycharm": {
     "name": "#%%\n",
     "is_executing": false
    }
   }
  },
  {
   "cell_type": "code",
   "execution_count": 24,
   "outputs": [
    {
     "name": "stdout",
     "text": [
      "Learner split in 14  groups\n[Sequential(\n  (0): Embedding(50265, 768, padding_idx=1)\n  (1): Embedding(514, 768, padding_idx=1)\n  (2): Embedding(1, 768)\n  (3): LayerNorm((768,), eps=1e-05, elementwise_affine=True)\n  (4): Dropout(p=0.1, inplace=False)\n), Sequential(\n  (0): Linear(in_features=768, out_features=768, bias=True)\n  (1): Linear(in_features=768, out_features=768, bias=True)\n  (2): Linear(in_features=768, out_features=768, bias=True)\n  (3): Dropout(p=0.1, inplace=False)\n  (4): Linear(in_features=768, out_features=768, bias=True)\n  (5): LayerNorm((768,), eps=1e-05, elementwise_affine=True)\n  (6): Dropout(p=0.1, inplace=False)\n  (7): Linear(in_features=768, out_features=3072, bias=True)\n  (8): Linear(in_features=3072, out_features=768, bias=True)\n  (9): LayerNorm((768,), eps=1e-05, elementwise_affine=True)\n  (10): Dropout(p=0.1, inplace=False)\n), Sequential(\n  (0): Linear(in_features=768, out_features=768, bias=True)\n  (1): Linear(in_features=768, out_features=768, bias=True)\n  (2): Linear(in_features=768, out_features=768, bias=True)\n  (3): Dropout(p=0.1, inplace=False)\n  (4): Linear(in_features=768, out_features=768, bias=True)\n  (5): LayerNorm((768,), eps=1e-05, elementwise_affine=True)\n  (6): Dropout(p=0.1, inplace=False)\n  (7): Linear(in_features=768, out_features=3072, bias=True)\n  (8): Linear(in_features=3072, out_features=768, bias=True)\n  (9): LayerNorm((768,), eps=1e-05, elementwise_affine=True)\n  (10): Dropout(p=0.1, inplace=False)\n), Sequential(\n  (0): Linear(in_features=768, out_features=768, bias=True)\n  (1): Linear(in_features=768, out_features=768, bias=True)\n  (2): Linear(in_features=768, out_features=768, bias=True)\n  (3): Dropout(p=0.1, inplace=False)\n  (4): Linear(in_features=768, out_features=768, bias=True)\n  (5): LayerNorm((768,), eps=1e-05, elementwise_affine=True)\n  (6): Dropout(p=0.1, inplace=False)\n  (7): Linear(in_features=768, out_features=3072, bias=True)\n  (8): Linear(in_features=3072, out_features=768, bias=True)\n  (9): LayerNorm((768,), eps=1e-05, elementwise_affine=True)\n  (10): Dropout(p=0.1, inplace=False)\n), Sequential(\n  (0): Linear(in_features=768, out_features=768, bias=True)\n  (1): Linear(in_features=768, out_features=768, bias=True)\n  (2): Linear(in_features=768, out_features=768, bias=True)\n  (3): Dropout(p=0.1, inplace=False)\n  (4): Linear(in_features=768, out_features=768, bias=True)\n  (5): LayerNorm((768,), eps=1e-05, elementwise_affine=True)\n  (6): Dropout(p=0.1, inplace=False)\n  (7): Linear(in_features=768, out_features=3072, bias=True)\n  (8): Linear(in_features=3072, out_features=768, bias=True)\n  (9): LayerNorm((768,), eps=1e-05, elementwise_affine=True)\n  (10): Dropout(p=0.1, inplace=False)\n), Sequential(\n  (0): Linear(in_features=768, out_features=768, bias=True)\n  (1): Linear(in_features=768, out_features=768, bias=True)\n  (2): Linear(in_features=768, out_features=768, bias=True)\n  (3): Dropout(p=0.1, inplace=False)\n  (4): Linear(in_features=768, out_features=768, bias=True)\n  (5): LayerNorm((768,), eps=1e-05, elementwise_affine=True)\n  (6): Dropout(p=0.1, inplace=False)\n  (7): Linear(in_features=768, out_features=3072, bias=True)\n  (8): Linear(in_features=3072, out_features=768, bias=True)\n  (9): LayerNorm((768,), eps=1e-05, elementwise_affine=True)\n  (10): Dropout(p=0.1, inplace=False)\n), Sequential(\n  (0): Linear(in_features=768, out_features=768, bias=True)\n  (1): Linear(in_features=768, out_features=768, bias=True)\n  (2): Linear(in_features=768, out_features=768, bias=True)\n  (3): Dropout(p=0.1, inplace=False)\n  (4): Linear(in_features=768, out_features=768, bias=True)\n  (5): LayerNorm((768,), eps=1e-05, elementwise_affine=True)\n  (6): Dropout(p=0.1, inplace=False)\n  (7): Linear(in_features=768, out_features=3072, bias=True)\n  (8): Linear(in_features=3072, out_features=768, bias=True)\n  (9): LayerNorm((768,), eps=1e-05, elementwise_affine=True)\n  (10): Dropout(p=0.1, inplace=False)\n), Sequential(\n  (0): Linear(in_features=768, out_features=768, bias=True)\n  (1): Linear(in_features=768, out_features=768, bias=True)\n  (2): Linear(in_features=768, out_features=768, bias=True)\n  (3): Dropout(p=0.1, inplace=False)\n  (4): Linear(in_features=768, out_features=768, bias=True)\n  (5): LayerNorm((768,), eps=1e-05, elementwise_affine=True)\n  (6): Dropout(p=0.1, inplace=False)\n  (7): Linear(in_features=768, out_features=3072, bias=True)\n  (8): Linear(in_features=3072, out_features=768, bias=True)\n  (9): LayerNorm((768,), eps=1e-05, elementwise_affine=True)\n  (10): Dropout(p=0.1, inplace=False)\n), Sequential(\n  (0): Linear(in_features=768, out_features=768, bias=True)\n  (1): Linear(in_features=768, out_features=768, bias=True)\n  (2): Linear(in_features=768, out_features=768, bias=True)\n  (3): Dropout(p=0.1, inplace=False)\n  (4): Linear(in_features=768, out_features=768, bias=True)\n  (5): LayerNorm((768,), eps=1e-05, elementwise_affine=True)\n  (6): Dropout(p=0.1, inplace=False)\n  (7): Linear(in_features=768, out_features=3072, bias=True)\n  (8): Linear(in_features=3072, out_features=768, bias=True)\n  (9): LayerNorm((768,), eps=1e-05, elementwise_affine=True)\n  (10): Dropout(p=0.1, inplace=False)\n), Sequential(\n  (0): Linear(in_features=768, out_features=768, bias=True)\n  (1): Linear(in_features=768, out_features=768, bias=True)\n  (2): Linear(in_features=768, out_features=768, bias=True)\n  (3): Dropout(p=0.1, inplace=False)\n  (4): Linear(in_features=768, out_features=768, bias=True)\n  (5): LayerNorm((768,), eps=1e-05, elementwise_affine=True)\n  (6): Dropout(p=0.1, inplace=False)\n  (7): Linear(in_features=768, out_features=3072, bias=True)\n  (8): Linear(in_features=3072, out_features=768, bias=True)\n  (9): LayerNorm((768,), eps=1e-05, elementwise_affine=True)\n  (10): Dropout(p=0.1, inplace=False)\n), Sequential(\n  (0): Linear(in_features=768, out_features=768, bias=True)\n  (1): Linear(in_features=768, out_features=768, bias=True)\n  (2): Linear(in_features=768, out_features=768, bias=True)\n  (3): Dropout(p=0.1, inplace=False)\n  (4): Linear(in_features=768, out_features=768, bias=True)\n  (5): LayerNorm((768,), eps=1e-05, elementwise_affine=True)\n  (6): Dropout(p=0.1, inplace=False)\n  (7): Linear(in_features=768, out_features=3072, bias=True)\n  (8): Linear(in_features=3072, out_features=768, bias=True)\n  (9): LayerNorm((768,), eps=1e-05, elementwise_affine=True)\n  (10): Dropout(p=0.1, inplace=False)\n), Sequential(\n  (0): Linear(in_features=768, out_features=768, bias=True)\n  (1): Linear(in_features=768, out_features=768, bias=True)\n  (2): Linear(in_features=768, out_features=768, bias=True)\n  (3): Dropout(p=0.1, inplace=False)\n  (4): Linear(in_features=768, out_features=768, bias=True)\n  (5): LayerNorm((768,), eps=1e-05, elementwise_affine=True)\n  (6): Dropout(p=0.1, inplace=False)\n  (7): Linear(in_features=768, out_features=3072, bias=True)\n  (8): Linear(in_features=3072, out_features=768, bias=True)\n  (9): LayerNorm((768,), eps=1e-05, elementwise_affine=True)\n  (10): Dropout(p=0.1, inplace=False)\n), Sequential(\n  (0): Linear(in_features=768, out_features=768, bias=True)\n  (1): Linear(in_features=768, out_features=768, bias=True)\n  (2): Linear(in_features=768, out_features=768, bias=True)\n  (3): Dropout(p=0.1, inplace=False)\n  (4): Linear(in_features=768, out_features=768, bias=True)\n  (5): LayerNorm((768,), eps=1e-05, elementwise_affine=True)\n  (6): Dropout(p=0.1, inplace=False)\n  (7): Linear(in_features=768, out_features=3072, bias=True)\n  (8): Linear(in_features=3072, out_features=768, bias=True)\n  (9): LayerNorm((768,), eps=1e-05, elementwise_affine=True)\n  (10): Dropout(p=0.1, inplace=False)\n), Sequential(\n  (0): Linear(in_features=768, out_features=768, bias=True)\n  (1): Tanh()\n  (2): Linear(in_features=768, out_features=768, bias=True)\n  (3): Dropout(p=0.1, inplace=False)\n  (4): Linear(in_features=768, out_features=5, bias=True)\n)]\n"
     ],
     "output_type": "stream"
    }
   ],
   "source": [
    "learner.split(list_layers)\n",
    "num_groups = len(learner.layer_groups)\n",
    "print('Learner split in', num_groups, ' groups')\n",
    "print(learner.layer_groups)"
   ],
   "metadata": {
    "collapsed": false,
    "pycharm": {
     "name": "#%%\n",
     "is_executing": false
    }
   }
  },
  {
   "cell_type": "code",
   "execution_count": 25,
   "outputs": [],
   "source": [
    "learner.save('untrain')"
   ],
   "metadata": {
    "collapsed": false,
    "pycharm": {
     "name": "#%%\n",
     "is_executing": false
    }
   }
  },
  {
   "cell_type": "code",
   "execution_count": 26,
   "outputs": [
    {
     "data": {
      "text/plain": "Learner(data=TextClasDataBunch;\n\nTrain: LabelList (140454 items)\nx: TextList\n<s> ĠA Ġseries Ġof Ġesc ap ades Ġdemonstrating Ġthe Ġad age Ġthat Ġwhat Ġis Ġgood Ġfor Ġthe Ġgoose </s>,<s> ĠA Ġseries </s>,<s> ĠA </s>,<s> Ġseries </s>,<s> Ġof Ġesc ap ades Ġdemonstrating Ġthe Ġad age Ġthat Ġwhat Ġis Ġgood Ġfor Ġthe Ġgoose </s>\ny: CategoryList\n2,2,2,2,2\nPath: .;\n\nValid: LabelList (15606 items)\nx: TextList\n<s> Ġ' s Ġas Ġsorry </s>,<s> ĠRomantic Ġcomedy Ġand ĠDog me Ġ95 Ġfilmmaking Ġmay Ġseem Ġodd Ġbed fell ows Ġ, Ġbut Ġthey Ġturn Ġout Ġto Ġbe Ġdelight fully Ġcompatible Ġhere </s>,<s> Ġof Ġthese Ġdays </s>,<s> Ġfl inch Ġfrom Ġits Ġunsettling Ġprog nosis </s>,<s> Ġare Ġclinically Ġdepressed </s>\ny: CategoryList\n2,4,2,2,1\nPath: .;\n\nTest: LabelList (66292 items)\nx: TextList\n<s> Ġ15 60 61 Ġ85 45 ĠAn Ġintermitt ently Ġpleasing Ġbut Ġmostly Ġroutine Ġeffort Ġ. </s>,<s> Ġ15 60 62 Ġ85 45 ĠAn Ġintermitt ently Ġpleasing Ġbut Ġmostly Ġroutine Ġeffort </s>,<s> Ġ15 60 63 Ġ85 45 ĠAn </s>,<s> Ġ15 60 64 Ġ85 45 Ġintermitt ently Ġpleasing Ġbut Ġmostly Ġroutine Ġeffort </s>,<s> Ġ15 60 65 Ġ85 45 Ġintermitt ently Ġpleasing Ġbut Ġmostly Ġroutine </s>\ny: EmptyLabelList\n,,,,\nPath: ., model=CustomTransformerModel(\n  (transformer): RobertaForSequenceClassification(\n    (roberta): RobertaModel(\n      (embeddings): RobertaEmbeddings(\n        (word_embeddings): Embedding(50265, 768, padding_idx=1)\n        (position_embeddings): Embedding(514, 768, padding_idx=1)\n        (token_type_embeddings): Embedding(1, 768)\n        (LayerNorm): LayerNorm((768,), eps=1e-05, elementwise_affine=True)\n        (dropout): Dropout(p=0.1, inplace=False)\n      )\n      (encoder): BertEncoder(\n        (layer): ModuleList(\n          (0): BertLayer(\n            (attention): BertAttention(\n              (self): BertSelfAttention(\n                (query): Linear(in_features=768, out_features=768, bias=True)\n                (key): Linear(in_features=768, out_features=768, bias=True)\n                (value): Linear(in_features=768, out_features=768, bias=True)\n                (dropout): Dropout(p=0.1, inplace=False)\n              )\n              (output): BertSelfOutput(\n                (dense): Linear(in_features=768, out_features=768, bias=True)\n                (LayerNorm): LayerNorm((768,), eps=1e-05, elementwise_affine=True)\n                (dropout): Dropout(p=0.1, inplace=False)\n              )\n            )\n            (intermediate): BertIntermediate(\n              (dense): Linear(in_features=768, out_features=3072, bias=True)\n            )\n            (output): BertOutput(\n              (dense): Linear(in_features=3072, out_features=768, bias=True)\n              (LayerNorm): LayerNorm((768,), eps=1e-05, elementwise_affine=True)\n              (dropout): Dropout(p=0.1, inplace=False)\n            )\n          )\n          (1): BertLayer(\n            (attention): BertAttention(\n              (self): BertSelfAttention(\n                (query): Linear(in_features=768, out_features=768, bias=True)\n                (key): Linear(in_features=768, out_features=768, bias=True)\n                (value): Linear(in_features=768, out_features=768, bias=True)\n                (dropout): Dropout(p=0.1, inplace=False)\n              )\n              (output): BertSelfOutput(\n                (dense): Linear(in_features=768, out_features=768, bias=True)\n                (LayerNorm): LayerNorm((768,), eps=1e-05, elementwise_affine=True)\n                (dropout): Dropout(p=0.1, inplace=False)\n              )\n            )\n            (intermediate): BertIntermediate(\n              (dense): Linear(in_features=768, out_features=3072, bias=True)\n            )\n            (output): BertOutput(\n              (dense): Linear(in_features=3072, out_features=768, bias=True)\n              (LayerNorm): LayerNorm((768,), eps=1e-05, elementwise_affine=True)\n              (dropout): Dropout(p=0.1, inplace=False)\n            )\n          )\n          (2): BertLayer(\n            (attention): BertAttention(\n              (self): BertSelfAttention(\n                (query): Linear(in_features=768, out_features=768, bias=True)\n                (key): Linear(in_features=768, out_features=768, bias=True)\n                (value): Linear(in_features=768, out_features=768, bias=True)\n                (dropout): Dropout(p=0.1, inplace=False)\n              )\n              (output): BertSelfOutput(\n                (dense): Linear(in_features=768, out_features=768, bias=True)\n                (LayerNorm): LayerNorm((768,), eps=1e-05, elementwise_affine=True)\n                (dropout): Dropout(p=0.1, inplace=False)\n              )\n            )\n            (intermediate): BertIntermediate(\n              (dense): Linear(in_features=768, out_features=3072, bias=True)\n            )\n            (output): BertOutput(\n              (dense): Linear(in_features=3072, out_features=768, bias=True)\n              (LayerNorm): LayerNorm((768,), eps=1e-05, elementwise_affine=True)\n              (dropout): Dropout(p=0.1, inplace=False)\n            )\n          )\n          (3): BertLayer(\n            (attention): BertAttention(\n              (self): BertSelfAttention(\n                (query): Linear(in_features=768, out_features=768, bias=True)\n                (key): Linear(in_features=768, out_features=768, bias=True)\n                (value): Linear(in_features=768, out_features=768, bias=True)\n                (dropout): Dropout(p=0.1, inplace=False)\n              )\n              (output): BertSelfOutput(\n                (dense): Linear(in_features=768, out_features=768, bias=True)\n                (LayerNorm): LayerNorm((768,), eps=1e-05, elementwise_affine=True)\n                (dropout): Dropout(p=0.1, inplace=False)\n              )\n            )\n            (intermediate): BertIntermediate(\n              (dense): Linear(in_features=768, out_features=3072, bias=True)\n            )\n            (output): BertOutput(\n              (dense): Linear(in_features=3072, out_features=768, bias=True)\n              (LayerNorm): LayerNorm((768,), eps=1e-05, elementwise_affine=True)\n              (dropout): Dropout(p=0.1, inplace=False)\n            )\n          )\n          (4): BertLayer(\n            (attention): BertAttention(\n              (self): BertSelfAttention(\n                (query): Linear(in_features=768, out_features=768, bias=True)\n                (key): Linear(in_features=768, out_features=768, bias=True)\n                (value): Linear(in_features=768, out_features=768, bias=True)\n                (dropout): Dropout(p=0.1, inplace=False)\n              )\n              (output): BertSelfOutput(\n                (dense): Linear(in_features=768, out_features=768, bias=True)\n                (LayerNorm): LayerNorm((768,), eps=1e-05, elementwise_affine=True)\n                (dropout): Dropout(p=0.1, inplace=False)\n              )\n            )\n            (intermediate): BertIntermediate(\n              (dense): Linear(in_features=768, out_features=3072, bias=True)\n            )\n            (output): BertOutput(\n              (dense): Linear(in_features=3072, out_features=768, bias=True)\n              (LayerNorm): LayerNorm((768,), eps=1e-05, elementwise_affine=True)\n              (dropout): Dropout(p=0.1, inplace=False)\n            )\n          )\n          (5): BertLayer(\n            (attention): BertAttention(\n              (self): BertSelfAttention(\n                (query): Linear(in_features=768, out_features=768, bias=True)\n                (key): Linear(in_features=768, out_features=768, bias=True)\n                (value): Linear(in_features=768, out_features=768, bias=True)\n                (dropout): Dropout(p=0.1, inplace=False)\n              )\n              (output): BertSelfOutput(\n                (dense): Linear(in_features=768, out_features=768, bias=True)\n                (LayerNorm): LayerNorm((768,), eps=1e-05, elementwise_affine=True)\n                (dropout): Dropout(p=0.1, inplace=False)\n              )\n            )\n            (intermediate): BertIntermediate(\n              (dense): Linear(in_features=768, out_features=3072, bias=True)\n            )\n            (output): BertOutput(\n              (dense): Linear(in_features=3072, out_features=768, bias=True)\n              (LayerNorm): LayerNorm((768,), eps=1e-05, elementwise_affine=True)\n              (dropout): Dropout(p=0.1, inplace=False)\n            )\n          )\n          (6): BertLayer(\n            (attention): BertAttention(\n              (self): BertSelfAttention(\n                (query): Linear(in_features=768, out_features=768, bias=True)\n                (key): Linear(in_features=768, out_features=768, bias=True)\n                (value): Linear(in_features=768, out_features=768, bias=True)\n                (dropout): Dropout(p=0.1, inplace=False)\n              )\n              (output): BertSelfOutput(\n                (dense): Linear(in_features=768, out_features=768, bias=True)\n                (LayerNorm): LayerNorm((768,), eps=1e-05, elementwise_affine=True)\n                (dropout): Dropout(p=0.1, inplace=False)\n              )\n            )\n            (intermediate): BertIntermediate(\n              (dense): Linear(in_features=768, out_features=3072, bias=True)\n            )\n            (output): BertOutput(\n              (dense): Linear(in_features=3072, out_features=768, bias=True)\n              (LayerNorm): LayerNorm((768,), eps=1e-05, elementwise_affine=True)\n              (dropout): Dropout(p=0.1, inplace=False)\n            )\n          )\n          (7): BertLayer(\n            (attention): BertAttention(\n              (self): BertSelfAttention(\n                (query): Linear(in_features=768, out_features=768, bias=True)\n                (key): Linear(in_features=768, out_features=768, bias=True)\n                (value): Linear(in_features=768, out_features=768, bias=True)\n                (dropout): Dropout(p=0.1, inplace=False)\n              )\n              (output): BertSelfOutput(\n                (dense): Linear(in_features=768, out_features=768, bias=True)\n                (LayerNorm): LayerNorm((768,), eps=1e-05, elementwise_affine=True)\n                (dropout): Dropout(p=0.1, inplace=False)\n              )\n            )\n            (intermediate): BertIntermediate(\n              (dense): Linear(in_features=768, out_features=3072, bias=True)\n            )\n            (output): BertOutput(\n              (dense): Linear(in_features=3072, out_features=768, bias=True)\n              (LayerNorm): LayerNorm((768,), eps=1e-05, elementwise_affine=True)\n              (dropout): Dropout(p=0.1, inplace=False)\n            )\n          )\n          (8): BertLayer(\n            (attention): BertAttention(\n              (self): BertSelfAttention(\n                (query): Linear(in_features=768, out_features=768, bias=True)\n                (key): Linear(in_features=768, out_features=768, bias=True)\n                (value): Linear(in_features=768, out_features=768, bias=True)\n                (dropout): Dropout(p=0.1, inplace=False)\n              )\n              (output): BertSelfOutput(\n                (dense): Linear(in_features=768, out_features=768, bias=True)\n                (LayerNorm): LayerNorm((768,), eps=1e-05, elementwise_affine=True)\n                (dropout): Dropout(p=0.1, inplace=False)\n              )\n            )\n            (intermediate): BertIntermediate(\n              (dense): Linear(in_features=768, out_features=3072, bias=True)\n            )\n            (output): BertOutput(\n              (dense): Linear(in_features=3072, out_features=768, bias=True)\n              (LayerNorm): LayerNorm((768,), eps=1e-05, elementwise_affine=True)\n              (dropout): Dropout(p=0.1, inplace=False)\n            )\n          )\n          (9): BertLayer(\n            (attention): BertAttention(\n              (self): BertSelfAttention(\n                (query): Linear(in_features=768, out_features=768, bias=True)\n                (key): Linear(in_features=768, out_features=768, bias=True)\n                (value): Linear(in_features=768, out_features=768, bias=True)\n                (dropout): Dropout(p=0.1, inplace=False)\n              )\n              (output): BertSelfOutput(\n                (dense): Linear(in_features=768, out_features=768, bias=True)\n                (LayerNorm): LayerNorm((768,), eps=1e-05, elementwise_affine=True)\n                (dropout): Dropout(p=0.1, inplace=False)\n              )\n            )\n            (intermediate): BertIntermediate(\n              (dense): Linear(in_features=768, out_features=3072, bias=True)\n            )\n            (output): BertOutput(\n              (dense): Linear(in_features=3072, out_features=768, bias=True)\n              (LayerNorm): LayerNorm((768,), eps=1e-05, elementwise_affine=True)\n              (dropout): Dropout(p=0.1, inplace=False)\n            )\n          )\n          (10): BertLayer(\n            (attention): BertAttention(\n              (self): BertSelfAttention(\n                (query): Linear(in_features=768, out_features=768, bias=True)\n                (key): Linear(in_features=768, out_features=768, bias=True)\n                (value): Linear(in_features=768, out_features=768, bias=True)\n                (dropout): Dropout(p=0.1, inplace=False)\n              )\n              (output): BertSelfOutput(\n                (dense): Linear(in_features=768, out_features=768, bias=True)\n                (LayerNorm): LayerNorm((768,), eps=1e-05, elementwise_affine=True)\n                (dropout): Dropout(p=0.1, inplace=False)\n              )\n            )\n            (intermediate): BertIntermediate(\n              (dense): Linear(in_features=768, out_features=3072, bias=True)\n            )\n            (output): BertOutput(\n              (dense): Linear(in_features=3072, out_features=768, bias=True)\n              (LayerNorm): LayerNorm((768,), eps=1e-05, elementwise_affine=True)\n              (dropout): Dropout(p=0.1, inplace=False)\n            )\n          )\n          (11): BertLayer(\n            (attention): BertAttention(\n              (self): BertSelfAttention(\n                (query): Linear(in_features=768, out_features=768, bias=True)\n                (key): Linear(in_features=768, out_features=768, bias=True)\n                (value): Linear(in_features=768, out_features=768, bias=True)\n                (dropout): Dropout(p=0.1, inplace=False)\n              )\n              (output): BertSelfOutput(\n                (dense): Linear(in_features=768, out_features=768, bias=True)\n                (LayerNorm): LayerNorm((768,), eps=1e-05, elementwise_affine=True)\n                (dropout): Dropout(p=0.1, inplace=False)\n              )\n            )\n            (intermediate): BertIntermediate(\n              (dense): Linear(in_features=768, out_features=3072, bias=True)\n            )\n            (output): BertOutput(\n              (dense): Linear(in_features=3072, out_features=768, bias=True)\n              (LayerNorm): LayerNorm((768,), eps=1e-05, elementwise_affine=True)\n              (dropout): Dropout(p=0.1, inplace=False)\n            )\n          )\n        )\n      )\n      (pooler): BertPooler(\n        (dense): Linear(in_features=768, out_features=768, bias=True)\n        (activation): Tanh()\n      )\n    )\n    (classifier): RobertaClassificationHead(\n      (dense): Linear(in_features=768, out_features=768, bias=True)\n      (dropout): Dropout(p=0.1, inplace=False)\n      (out_proj): Linear(in_features=768, out_features=5, bias=True)\n    )\n  )\n), opt_func=functools.partial(<class 'transformers.optimization.AdamW'>, correct_bias=False), loss_func=FlattenedLoss of CrossEntropyLoss(), metrics=[<function accuracy at 0x7f3e528f81e0>, <function error_rate at 0x7f3e528f8400>], true_wd=True, bn_wd=True, wd=0.01, train_bn=True, path=PosixPath('.'), model_dir='models', callback_fns=[functools.partial(<class 'fastai.basic_train.Recorder'>, add_time=True, silent=False)], callbacks=[ShowGraph\nlearn: Learner(data=TextClasDataBunch;\n\nTrain: LabelList (140454 items)\nx: TextList\n<s> ĠA Ġseries Ġof Ġesc ap ades Ġdemonstrating Ġthe Ġad age Ġthat Ġwhat Ġis Ġgood Ġfor Ġthe Ġgoose </s>,<s> ĠA Ġseries </s>,<s> ĠA </s>,<s> Ġseries </s>,<s> Ġof Ġesc ap ades Ġdemonstrating Ġthe Ġad age Ġthat Ġwhat Ġis Ġgood Ġfor Ġthe Ġgoose </s>\ny: CategoryList\n2,2,2,2,2\nPath: .;\n\nValid: LabelList (15606 items)\nx: TextList\n<s> Ġ' s Ġas Ġsorry </s>,<s> ĠRomantic Ġcomedy Ġand ĠDog me Ġ95 Ġfilmmaking Ġmay Ġseem Ġodd Ġbed fell ows Ġ, Ġbut Ġthey Ġturn Ġout Ġto Ġbe Ġdelight fully Ġcompatible Ġhere </s>,<s> Ġof Ġthese Ġdays </s>,<s> Ġfl inch Ġfrom Ġits Ġunsettling Ġprog nosis </s>,<s> Ġare Ġclinically Ġdepressed </s>\ny: CategoryList\n2,4,2,2,1\nPath: .;\n\nTest: LabelList (66292 items)\nx: TextList\n<s> Ġ15 60 61 Ġ85 45 ĠAn Ġintermitt ently Ġpleasing Ġbut Ġmostly Ġroutine Ġeffort Ġ. </s>,<s> Ġ15 60 62 Ġ85 45 ĠAn Ġintermitt ently Ġpleasing Ġbut Ġmostly Ġroutine Ġeffort </s>,<s> Ġ15 60 63 Ġ85 45 ĠAn </s>,<s> Ġ15 60 64 Ġ85 45 Ġintermitt ently Ġpleasing Ġbut Ġmostly Ġroutine Ġeffort </s>,<s> Ġ15 60 65 Ġ85 45 Ġintermitt ently Ġpleasing Ġbut Ġmostly Ġroutine </s>\ny: EmptyLabelList\n,,,,\nPath: ., model=CustomTransformerModel(\n  (transformer): RobertaForSequenceClassification(\n    (roberta): RobertaModel(\n      (embeddings): RobertaEmbeddings(\n        (word_embeddings): Embedding(50265, 768, padding_idx=1)\n        (position_embeddings): Embedding(514, 768, padding_idx=1)\n        (token_type_embeddings): Embedding(1, 768)\n        (LayerNorm): LayerNorm((768,), eps=1e-05, elementwise_affine=True)\n        (dropout): Dropout(p=0.1, inplace=False)\n      )\n      (encoder): BertEncoder(\n        (layer): ModuleList(\n          (0): BertLayer(\n            (attention): BertAttention(\n              (self): BertSelfAttention(\n                (query): Linear(in_features=768, out_features=768, bias=True)\n                (key): Linear(in_features=768, out_features=768, bias=True)\n                (value): Linear(in_features=768, out_features=768, bias=True)\n                (dropout): Dropout(p=0.1, inplace=False)\n              )\n              (output): BertSelfOutput(\n                (dense): Linear(in_features=768, out_features=768, bias=True)\n                (LayerNorm): LayerNorm((768,), eps=1e-05, elementwise_affine=True)\n                (dropout): Dropout(p=0.1, inplace=False)\n              )\n            )\n            (intermediate): BertIntermediate(\n              (dense): Linear(in_features=768, out_features=3072, bias=True)\n            )\n            (output): BertOutput(\n              (dense): Linear(in_features=3072, out_features=768, bias=True)\n              (LayerNorm): LayerNorm((768,), eps=1e-05, elementwise_affine=True)\n              (dropout): Dropout(p=0.1, inplace=False)\n            )\n          )\n          (1): BertLayer(\n            (attention): BertAttention(\n              (self): BertSelfAttention(\n                (query): Linear(in_features=768, out_features=768, bias=True)\n                (key): Linear(in_features=768, out_features=768, bias=True)\n                (value): Linear(in_features=768, out_features=768, bias=True)\n                (dropout): Dropout(p=0.1, inplace=False)\n              )\n              (output): BertSelfOutput(\n                (dense): Linear(in_features=768, out_features=768, bias=True)\n                (LayerNorm): LayerNorm((768,), eps=1e-05, elementwise_affine=True)\n                (dropout): Dropout(p=0.1, inplace=False)\n              )\n            )\n            (intermediate): BertIntermediate(\n              (dense): Linear(in_features=768, out_features=3072, bias=True)\n            )\n            (output): BertOutput(\n              (dense): Linear(in_features=3072, out_features=768, bias=True)\n              (LayerNorm): LayerNorm((768,), eps=1e-05, elementwise_affine=True)\n              (dropout): Dropout(p=0.1, inplace=False)\n            )\n          )\n          (2): BertLayer(\n            (attention): BertAttention(\n              (self): BertSelfAttention(\n                (query): Linear(in_features=768, out_features=768, bias=True)\n                (key): Linear(in_features=768, out_features=768, bias=True)\n                (value): Linear(in_features=768, out_features=768, bias=True)\n                (dropout): Dropout(p=0.1, inplace=False)\n              )\n              (output): BertSelfOutput(\n                (dense): Linear(in_features=768, out_features=768, bias=True)\n                (LayerNorm): LayerNorm((768,), eps=1e-05, elementwise_affine=True)\n                (dropout): Dropout(p=0.1, inplace=False)\n              )\n            )\n            (intermediate): BertIntermediate(\n              (dense): Linear(in_features=768, out_features=3072, bias=True)\n            )\n            (output): BertOutput(\n              (dense): Linear(in_features=3072, out_features=768, bias=True)\n              (LayerNorm): LayerNorm((768,), eps=1e-05, elementwise_affine=True)\n              (dropout): Dropout(p=0.1, inplace=False)\n            )\n          )\n          (3): BertLayer(\n            (attention): BertAttention(\n              (self): BertSelfAttention(\n                (query): Linear(in_features=768, out_features=768, bias=True)\n                (key): Linear(in_features=768, out_features=768, bias=True)\n                (value): Linear(in_features=768, out_features=768, bias=True)\n                (dropout): Dropout(p=0.1, inplace=False)\n              )\n              (output): BertSelfOutput(\n                (dense): Linear(in_features=768, out_features=768, bias=True)\n                (LayerNorm): LayerNorm((768,), eps=1e-05, elementwise_affine=True)\n                (dropout): Dropout(p=0.1, inplace=False)\n              )\n            )\n            (intermediate): BertIntermediate(\n              (dense): Linear(in_features=768, out_features=3072, bias=True)\n            )\n            (output): BertOutput(\n              (dense): Linear(in_features=3072, out_features=768, bias=True)\n              (LayerNorm): LayerNorm((768,), eps=1e-05, elementwise_affine=True)\n              (dropout): Dropout(p=0.1, inplace=False)\n            )\n          )\n          (4): BertLayer(\n            (attention): BertAttention(\n              (self): BertSelfAttention(\n                (query): Linear(in_features=768, out_features=768, bias=True)\n                (key): Linear(in_features=768, out_features=768, bias=True)\n                (value): Linear(in_features=768, out_features=768, bias=True)\n                (dropout): Dropout(p=0.1, inplace=False)\n              )\n              (output): BertSelfOutput(\n                (dense): Linear(in_features=768, out_features=768, bias=True)\n                (LayerNorm): LayerNorm((768,), eps=1e-05, elementwise_affine=True)\n                (dropout): Dropout(p=0.1, inplace=False)\n              )\n            )\n            (intermediate): BertIntermediate(\n              (dense): Linear(in_features=768, out_features=3072, bias=True)\n            )\n            (output): BertOutput(\n              (dense): Linear(in_features=3072, out_features=768, bias=True)\n              (LayerNorm): LayerNorm((768,), eps=1e-05, elementwise_affine=True)\n              (dropout): Dropout(p=0.1, inplace=False)\n            )\n          )\n          (5): BertLayer(\n            (attention): BertAttention(\n              (self): BertSelfAttention(\n                (query): Linear(in_features=768, out_features=768, bias=True)\n                (key): Linear(in_features=768, out_features=768, bias=True)\n                (value): Linear(in_features=768, out_features=768, bias=True)\n                (dropout): Dropout(p=0.1, inplace=False)\n              )\n              (output): BertSelfOutput(\n                (dense): Linear(in_features=768, out_features=768, bias=True)\n                (LayerNorm): LayerNorm((768,), eps=1e-05, elementwise_affine=True)\n                (dropout): Dropout(p=0.1, inplace=False)\n              )\n            )\n            (intermediate): BertIntermediate(\n              (dense): Linear(in_features=768, out_features=3072, bias=True)\n            )\n            (output): BertOutput(\n              (dense): Linear(in_features=3072, out_features=768, bias=True)\n              (LayerNorm): LayerNorm((768,), eps=1e-05, elementwise_affine=True)\n              (dropout): Dropout(p=0.1, inplace=False)\n            )\n          )\n          (6): BertLayer(\n            (attention): BertAttention(\n              (self): BertSelfAttention(\n                (query): Linear(in_features=768, out_features=768, bias=True)\n                (key): Linear(in_features=768, out_features=768, bias=True)\n                (value): Linear(in_features=768, out_features=768, bias=True)\n                (dropout): Dropout(p=0.1, inplace=False)\n              )\n              (output): BertSelfOutput(\n                (dense): Linear(in_features=768, out_features=768, bias=True)\n                (LayerNorm): LayerNorm((768,), eps=1e-05, elementwise_affine=True)\n                (dropout): Dropout(p=0.1, inplace=False)\n              )\n            )\n            (intermediate): BertIntermediate(\n              (dense): Linear(in_features=768, out_features=3072, bias=True)\n            )\n            (output): BertOutput(\n              (dense): Linear(in_features=3072, out_features=768, bias=True)\n              (LayerNorm): LayerNorm((768,), eps=1e-05, elementwise_affine=True)\n              (dropout): Dropout(p=0.1, inplace=False)\n            )\n          )\n          (7): BertLayer(\n            (attention): BertAttention(\n              (self): BertSelfAttention(\n                (query): Linear(in_features=768, out_features=768, bias=True)\n                (key): Linear(in_features=768, out_features=768, bias=True)\n                (value): Linear(in_features=768, out_features=768, bias=True)\n                (dropout): Dropout(p=0.1, inplace=False)\n              )\n              (output): BertSelfOutput(\n                (dense): Linear(in_features=768, out_features=768, bias=True)\n                (LayerNorm): LayerNorm((768,), eps=1e-05, elementwise_affine=True)\n                (dropout): Dropout(p=0.1, inplace=False)\n              )\n            )\n            (intermediate): BertIntermediate(\n              (dense): Linear(in_features=768, out_features=3072, bias=True)\n            )\n            (output): BertOutput(\n              (dense): Linear(in_features=3072, out_features=768, bias=True)\n              (LayerNorm): LayerNorm((768,), eps=1e-05, elementwise_affine=True)\n              (dropout): Dropout(p=0.1, inplace=False)\n            )\n          )\n          (8): BertLayer(\n            (attention): BertAttention(\n              (self): BertSelfAttention(\n                (query): Linear(in_features=768, out_features=768, bias=True)\n                (key): Linear(in_features=768, out_features=768, bias=True)\n                (value): Linear(in_features=768, out_features=768, bias=True)\n                (dropout): Dropout(p=0.1, inplace=False)\n              )\n              (output): BertSelfOutput(\n                (dense): Linear(in_features=768, out_features=768, bias=True)\n                (LayerNorm): LayerNorm((768,), eps=1e-05, elementwise_affine=True)\n                (dropout): Dropout(p=0.1, inplace=False)\n              )\n            )\n            (intermediate): BertIntermediate(\n              (dense): Linear(in_features=768, out_features=3072, bias=True)\n            )\n            (output): BertOutput(\n              (dense): Linear(in_features=3072, out_features=768, bias=True)\n              (LayerNorm): LayerNorm((768,), eps=1e-05, elementwise_affine=True)\n              (dropout): Dropout(p=0.1, inplace=False)\n            )\n          )\n          (9): BertLayer(\n            (attention): BertAttention(\n              (self): BertSelfAttention(\n                (query): Linear(in_features=768, out_features=768, bias=True)\n                (key): Linear(in_features=768, out_features=768, bias=True)\n                (value): Linear(in_features=768, out_features=768, bias=True)\n                (dropout): Dropout(p=0.1, inplace=False)\n              )\n              (output): BertSelfOutput(\n                (dense): Linear(in_features=768, out_features=768, bias=True)\n                (LayerNorm): LayerNorm((768,), eps=1e-05, elementwise_affine=True)\n                (dropout): Dropout(p=0.1, inplace=False)\n              )\n            )\n            (intermediate): BertIntermediate(\n              (dense): Linear(in_features=768, out_features=3072, bias=True)\n            )\n            (output): BertOutput(\n              (dense): Linear(in_features=3072, out_features=768, bias=True)\n              (LayerNorm): LayerNorm((768,), eps=1e-05, elementwise_affine=True)\n              (dropout): Dropout(p=0.1, inplace=False)\n            )\n          )\n          (10): BertLayer(\n            (attention): BertAttention(\n              (self): BertSelfAttention(\n                (query): Linear(in_features=768, out_features=768, bias=True)\n                (key): Linear(in_features=768, out_features=768, bias=True)\n                (value): Linear(in_features=768, out_features=768, bias=True)\n                (dropout): Dropout(p=0.1, inplace=False)\n              )\n              (output): BertSelfOutput(\n                (dense): Linear(in_features=768, out_features=768, bias=True)\n                (LayerNorm): LayerNorm((768,), eps=1e-05, elementwise_affine=True)\n                (dropout): Dropout(p=0.1, inplace=False)\n              )\n            )\n            (intermediate): BertIntermediate(\n              (dense): Linear(in_features=768, out_features=3072, bias=True)\n            )\n            (output): BertOutput(\n              (dense): Linear(in_features=3072, out_features=768, bias=True)\n              (LayerNorm): LayerNorm((768,), eps=1e-05, elementwise_affine=True)\n              (dropout): Dropout(p=0.1, inplace=False)\n            )\n          )\n          (11): BertLayer(\n            (attention): BertAttention(\n              (self): BertSelfAttention(\n                (query): Linear(in_features=768, out_features=768, bias=True)\n                (key): Linear(in_features=768, out_features=768, bias=True)\n                (value): Linear(in_features=768, out_features=768, bias=True)\n                (dropout): Dropout(p=0.1, inplace=False)\n              )\n              (output): BertSelfOutput(\n                (dense): Linear(in_features=768, out_features=768, bias=True)\n                (LayerNorm): LayerNorm((768,), eps=1e-05, elementwise_affine=True)\n                (dropout): Dropout(p=0.1, inplace=False)\n              )\n            )\n            (intermediate): BertIntermediate(\n              (dense): Linear(in_features=768, out_features=3072, bias=True)\n            )\n            (output): BertOutput(\n              (dense): Linear(in_features=3072, out_features=768, bias=True)\n              (LayerNorm): LayerNorm((768,), eps=1e-05, elementwise_affine=True)\n              (dropout): Dropout(p=0.1, inplace=False)\n            )\n          )\n        )\n      )\n      (pooler): BertPooler(\n        (dense): Linear(in_features=768, out_features=768, bias=True)\n        (activation): Tanh()\n      )\n    )\n    (classifier): RobertaClassificationHead(\n      (dense): Linear(in_features=768, out_features=768, bias=True)\n      (dropout): Dropout(p=0.1, inplace=False)\n      (out_proj): Linear(in_features=768, out_features=5, bias=True)\n    )\n  )\n), opt_func=functools.partial(<class 'transformers.optimization.AdamW'>, correct_bias=False), loss_func=FlattenedLoss of CrossEntropyLoss(), metrics=[<function accuracy at 0x7f3e528f81e0>, <function error_rate at 0x7f3e528f8400>], true_wd=True, bn_wd=True, wd=0.01, train_bn=True, path=PosixPath('.'), model_dir='models', callback_fns=[functools.partial(<class 'fastai.basic_train.Recorder'>, add_time=True, silent=False)], callbacks=[...], layer_groups=[Sequential(\n  (0): Embedding(50265, 768, padding_idx=1)\n  (1): Embedding(514, 768, padding_idx=1)\n  (2): Embedding(1, 768)\n  (3): LayerNorm((768,), eps=1e-05, elementwise_affine=True)\n  (4): Dropout(p=0.1, inplace=False)\n), Sequential(\n  (0): Linear(in_features=768, out_features=768, bias=True)\n  (1): Linear(in_features=768, out_features=768, bias=True)\n  (2): Linear(in_features=768, out_features=768, bias=True)\n  (3): Dropout(p=0.1, inplace=False)\n  (4): Linear(in_features=768, out_features=768, bias=True)\n  (5): LayerNorm((768,), eps=1e-05, elementwise_affine=True)\n  (6): Dropout(p=0.1, inplace=False)\n  (7): Linear(in_features=768, out_features=3072, bias=True)\n  (8): Linear(in_features=3072, out_features=768, bias=True)\n  (9): LayerNorm((768,), eps=1e-05, elementwise_affine=True)\n  (10): Dropout(p=0.1, inplace=False)\n), Sequential(\n  (0): Linear(in_features=768, out_features=768, bias=True)\n  (1): Linear(in_features=768, out_features=768, bias=True)\n  (2): Linear(in_features=768, out_features=768, bias=True)\n  (3): Dropout(p=0.1, inplace=False)\n  (4): Linear(in_features=768, out_features=768, bias=True)\n  (5): LayerNorm((768,), eps=1e-05, elementwise_affine=True)\n  (6): Dropout(p=0.1, inplace=False)\n  (7): Linear(in_features=768, out_features=3072, bias=True)\n  (8): Linear(in_features=3072, out_features=768, bias=True)\n  (9): LayerNorm((768,), eps=1e-05, elementwise_affine=True)\n  (10): Dropout(p=0.1, inplace=False)\n), Sequential(\n  (0): Linear(in_features=768, out_features=768, bias=True)\n  (1): Linear(in_features=768, out_features=768, bias=True)\n  (2): Linear(in_features=768, out_features=768, bias=True)\n  (3): Dropout(p=0.1, inplace=False)\n  (4): Linear(in_features=768, out_features=768, bias=True)\n  (5): LayerNorm((768,), eps=1e-05, elementwise_affine=True)\n  (6): Dropout(p=0.1, inplace=False)\n  (7): Linear(in_features=768, out_features=3072, bias=True)\n  (8): Linear(in_features=3072, out_features=768, bias=True)\n  (9): LayerNorm((768,), eps=1e-05, elementwise_affine=True)\n  (10): Dropout(p=0.1, inplace=False)\n), Sequential(\n  (0): Linear(in_features=768, out_features=768, bias=True)\n  (1): Linear(in_features=768, out_features=768, bias=True)\n  (2): Linear(in_features=768, out_features=768, bias=True)\n  (3): Dropout(p=0.1, inplace=False)\n  (4): Linear(in_features=768, out_features=768, bias=True)\n  (5): LayerNorm((768,), eps=1e-05, elementwise_affine=True)\n  (6): Dropout(p=0.1, inplace=False)\n  (7): Linear(in_features=768, out_features=3072, bias=True)\n  (8): Linear(in_features=3072, out_features=768, bias=True)\n  (9): LayerNorm((768,), eps=1e-05, elementwise_affine=True)\n  (10): Dropout(p=0.1, inplace=False)\n), Sequential(\n  (0): Linear(in_features=768, out_features=768, bias=True)\n  (1): Linear(in_features=768, out_features=768, bias=True)\n  (2): Linear(in_features=768, out_features=768, bias=True)\n  (3): Dropout(p=0.1, inplace=False)\n  (4): Linear(in_features=768, out_features=768, bias=True)\n  (5): LayerNorm((768,), eps=1e-05, elementwise_affine=True)\n  (6): Dropout(p=0.1, inplace=False)\n  (7): Linear(in_features=768, out_features=3072, bias=True)\n  (8): Linear(in_features=3072, out_features=768, bias=True)\n  (9): LayerNorm((768,), eps=1e-05, elementwise_affine=True)\n  (10): Dropout(p=0.1, inplace=False)\n), Sequential(\n  (0): Linear(in_features=768, out_features=768, bias=True)\n  (1): Linear(in_features=768, out_features=768, bias=True)\n  (2): Linear(in_features=768, out_features=768, bias=True)\n  (3): Dropout(p=0.1, inplace=False)\n  (4): Linear(in_features=768, out_features=768, bias=True)\n  (5): LayerNorm((768,), eps=1e-05, elementwise_affine=True)\n  (6): Dropout(p=0.1, inplace=False)\n  (7): Linear(in_features=768, out_features=3072, bias=True)\n  (8): Linear(in_features=3072, out_features=768, bias=True)\n  (9): LayerNorm((768,), eps=1e-05, elementwise_affine=True)\n  (10): Dropout(p=0.1, inplace=False)\n), Sequential(\n  (0): Linear(in_features=768, out_features=768, bias=True)\n  (1): Linear(in_features=768, out_features=768, bias=True)\n  (2): Linear(in_features=768, out_features=768, bias=True)\n  (3): Dropout(p=0.1, inplace=False)\n  (4): Linear(in_features=768, out_features=768, bias=True)\n  (5): LayerNorm((768,), eps=1e-05, elementwise_affine=True)\n  (6): Dropout(p=0.1, inplace=False)\n  (7): Linear(in_features=768, out_features=3072, bias=True)\n  (8): Linear(in_features=3072, out_features=768, bias=True)\n  (9): LayerNorm((768,), eps=1e-05, elementwise_affine=True)\n  (10): Dropout(p=0.1, inplace=False)\n), Sequential(\n  (0): Linear(in_features=768, out_features=768, bias=True)\n  (1): Linear(in_features=768, out_features=768, bias=True)\n  (2): Linear(in_features=768, out_features=768, bias=True)\n  (3): Dropout(p=0.1, inplace=False)\n  (4): Linear(in_features=768, out_features=768, bias=True)\n  (5): LayerNorm((768,), eps=1e-05, elementwise_affine=True)\n  (6): Dropout(p=0.1, inplace=False)\n  (7): Linear(in_features=768, out_features=3072, bias=True)\n  (8): Linear(in_features=3072, out_features=768, bias=True)\n  (9): LayerNorm((768,), eps=1e-05, elementwise_affine=True)\n  (10): Dropout(p=0.1, inplace=False)\n), Sequential(\n  (0): Linear(in_features=768, out_features=768, bias=True)\n  (1): Linear(in_features=768, out_features=768, bias=True)\n  (2): Linear(in_features=768, out_features=768, bias=True)\n  (3): Dropout(p=0.1, inplace=False)\n  (4): Linear(in_features=768, out_features=768, bias=True)\n  (5): LayerNorm((768,), eps=1e-05, elementwise_affine=True)\n  (6): Dropout(p=0.1, inplace=False)\n  (7): Linear(in_features=768, out_features=3072, bias=True)\n  (8): Linear(in_features=3072, out_features=768, bias=True)\n  (9): LayerNorm((768,), eps=1e-05, elementwise_affine=True)\n  (10): Dropout(p=0.1, inplace=False)\n), Sequential(\n  (0): Linear(in_features=768, out_features=768, bias=True)\n  (1): Linear(in_features=768, out_features=768, bias=True)\n  (2): Linear(in_features=768, out_features=768, bias=True)\n  (3): Dropout(p=0.1, inplace=False)\n  (4): Linear(in_features=768, out_features=768, bias=True)\n  (5): LayerNorm((768,), eps=1e-05, elementwise_affine=True)\n  (6): Dropout(p=0.1, inplace=False)\n  (7): Linear(in_features=768, out_features=3072, bias=True)\n  (8): Linear(in_features=3072, out_features=768, bias=True)\n  (9): LayerNorm((768,), eps=1e-05, elementwise_affine=True)\n  (10): Dropout(p=0.1, inplace=False)\n), Sequential(\n  (0): Linear(in_features=768, out_features=768, bias=True)\n  (1): Linear(in_features=768, out_features=768, bias=True)\n  (2): Linear(in_features=768, out_features=768, bias=True)\n  (3): Dropout(p=0.1, inplace=False)\n  (4): Linear(in_features=768, out_features=768, bias=True)\n  (5): LayerNorm((768,), eps=1e-05, elementwise_affine=True)\n  (6): Dropout(p=0.1, inplace=False)\n  (7): Linear(in_features=768, out_features=3072, bias=True)\n  (8): Linear(in_features=3072, out_features=768, bias=True)\n  (9): LayerNorm((768,), eps=1e-05, elementwise_affine=True)\n  (10): Dropout(p=0.1, inplace=False)\n), Sequential(\n  (0): Linear(in_features=768, out_features=768, bias=True)\n  (1): Linear(in_features=768, out_features=768, bias=True)\n  (2): Linear(in_features=768, out_features=768, bias=True)\n  (3): Dropout(p=0.1, inplace=False)\n  (4): Linear(in_features=768, out_features=768, bias=True)\n  (5): LayerNorm((768,), eps=1e-05, elementwise_affine=True)\n  (6): Dropout(p=0.1, inplace=False)\n  (7): Linear(in_features=768, out_features=3072, bias=True)\n  (8): Linear(in_features=3072, out_features=768, bias=True)\n  (9): LayerNorm((768,), eps=1e-05, elementwise_affine=True)\n  (10): Dropout(p=0.1, inplace=False)\n), Sequential(\n  (0): Linear(in_features=768, out_features=768, bias=True)\n  (1): Tanh()\n  (2): Linear(in_features=768, out_features=768, bias=True)\n  (3): Dropout(p=0.1, inplace=False)\n  (4): Linear(in_features=768, out_features=5, bias=True)\n)], add_time=True, silent=False)], layer_groups=[Sequential(\n  (0): Embedding(50265, 768, padding_idx=1)\n  (1): Embedding(514, 768, padding_idx=1)\n  (2): Embedding(1, 768)\n  (3): LayerNorm((768,), eps=1e-05, elementwise_affine=True)\n  (4): Dropout(p=0.1, inplace=False)\n), Sequential(\n  (0): Linear(in_features=768, out_features=768, bias=True)\n  (1): Linear(in_features=768, out_features=768, bias=True)\n  (2): Linear(in_features=768, out_features=768, bias=True)\n  (3): Dropout(p=0.1, inplace=False)\n  (4): Linear(in_features=768, out_features=768, bias=True)\n  (5): LayerNorm((768,), eps=1e-05, elementwise_affine=True)\n  (6): Dropout(p=0.1, inplace=False)\n  (7): Linear(in_features=768, out_features=3072, bias=True)\n  (8): Linear(in_features=3072, out_features=768, bias=True)\n  (9): LayerNorm((768,), eps=1e-05, elementwise_affine=True)\n  (10): Dropout(p=0.1, inplace=False)\n), Sequential(\n  (0): Linear(in_features=768, out_features=768, bias=True)\n  (1): Linear(in_features=768, out_features=768, bias=True)\n  (2): Linear(in_features=768, out_features=768, bias=True)\n  (3): Dropout(p=0.1, inplace=False)\n  (4): Linear(in_features=768, out_features=768, bias=True)\n  (5): LayerNorm((768,), eps=1e-05, elementwise_affine=True)\n  (6): Dropout(p=0.1, inplace=False)\n  (7): Linear(in_features=768, out_features=3072, bias=True)\n  (8): Linear(in_features=3072, out_features=768, bias=True)\n  (9): LayerNorm((768,), eps=1e-05, elementwise_affine=True)\n  (10): Dropout(p=0.1, inplace=False)\n), Sequential(\n  (0): Linear(in_features=768, out_features=768, bias=True)\n  (1): Linear(in_features=768, out_features=768, bias=True)\n  (2): Linear(in_features=768, out_features=768, bias=True)\n  (3): Dropout(p=0.1, inplace=False)\n  (4): Linear(in_features=768, out_features=768, bias=True)\n  (5): LayerNorm((768,), eps=1e-05, elementwise_affine=True)\n  (6): Dropout(p=0.1, inplace=False)\n  (7): Linear(in_features=768, out_features=3072, bias=True)\n  (8): Linear(in_features=3072, out_features=768, bias=True)\n  (9): LayerNorm((768,), eps=1e-05, elementwise_affine=True)\n  (10): Dropout(p=0.1, inplace=False)\n), Sequential(\n  (0): Linear(in_features=768, out_features=768, bias=True)\n  (1): Linear(in_features=768, out_features=768, bias=True)\n  (2): Linear(in_features=768, out_features=768, bias=True)\n  (3): Dropout(p=0.1, inplace=False)\n  (4): Linear(in_features=768, out_features=768, bias=True)\n  (5): LayerNorm((768,), eps=1e-05, elementwise_affine=True)\n  (6): Dropout(p=0.1, inplace=False)\n  (7): Linear(in_features=768, out_features=3072, bias=True)\n  (8): Linear(in_features=3072, out_features=768, bias=True)\n  (9): LayerNorm((768,), eps=1e-05, elementwise_affine=True)\n  (10): Dropout(p=0.1, inplace=False)\n), Sequential(\n  (0): Linear(in_features=768, out_features=768, bias=True)\n  (1): Linear(in_features=768, out_features=768, bias=True)\n  (2): Linear(in_features=768, out_features=768, bias=True)\n  (3): Dropout(p=0.1, inplace=False)\n  (4): Linear(in_features=768, out_features=768, bias=True)\n  (5): LayerNorm((768,), eps=1e-05, elementwise_affine=True)\n  (6): Dropout(p=0.1, inplace=False)\n  (7): Linear(in_features=768, out_features=3072, bias=True)\n  (8): Linear(in_features=3072, out_features=768, bias=True)\n  (9): LayerNorm((768,), eps=1e-05, elementwise_affine=True)\n  (10): Dropout(p=0.1, inplace=False)\n), Sequential(\n  (0): Linear(in_features=768, out_features=768, bias=True)\n  (1): Linear(in_features=768, out_features=768, bias=True)\n  (2): Linear(in_features=768, out_features=768, bias=True)\n  (3): Dropout(p=0.1, inplace=False)\n  (4): Linear(in_features=768, out_features=768, bias=True)\n  (5): LayerNorm((768,), eps=1e-05, elementwise_affine=True)\n  (6): Dropout(p=0.1, inplace=False)\n  (7): Linear(in_features=768, out_features=3072, bias=True)\n  (8): Linear(in_features=3072, out_features=768, bias=True)\n  (9): LayerNorm((768,), eps=1e-05, elementwise_affine=True)\n  (10): Dropout(p=0.1, inplace=False)\n), Sequential(\n  (0): Linear(in_features=768, out_features=768, bias=True)\n  (1): Linear(in_features=768, out_features=768, bias=True)\n  (2): Linear(in_features=768, out_features=768, bias=True)\n  (3): Dropout(p=0.1, inplace=False)\n  (4): Linear(in_features=768, out_features=768, bias=True)\n  (5): LayerNorm((768,), eps=1e-05, elementwise_affine=True)\n  (6): Dropout(p=0.1, inplace=False)\n  (7): Linear(in_features=768, out_features=3072, bias=True)\n  (8): Linear(in_features=3072, out_features=768, bias=True)\n  (9): LayerNorm((768,), eps=1e-05, elementwise_affine=True)\n  (10): Dropout(p=0.1, inplace=False)\n), Sequential(\n  (0): Linear(in_features=768, out_features=768, bias=True)\n  (1): Linear(in_features=768, out_features=768, bias=True)\n  (2): Linear(in_features=768, out_features=768, bias=True)\n  (3): Dropout(p=0.1, inplace=False)\n  (4): Linear(in_features=768, out_features=768, bias=True)\n  (5): LayerNorm((768,), eps=1e-05, elementwise_affine=True)\n  (6): Dropout(p=0.1, inplace=False)\n  (7): Linear(in_features=768, out_features=3072, bias=True)\n  (8): Linear(in_features=3072, out_features=768, bias=True)\n  (9): LayerNorm((768,), eps=1e-05, elementwise_affine=True)\n  (10): Dropout(p=0.1, inplace=False)\n), Sequential(\n  (0): Linear(in_features=768, out_features=768, bias=True)\n  (1): Linear(in_features=768, out_features=768, bias=True)\n  (2): Linear(in_features=768, out_features=768, bias=True)\n  (3): Dropout(p=0.1, inplace=False)\n  (4): Linear(in_features=768, out_features=768, bias=True)\n  (5): LayerNorm((768,), eps=1e-05, elementwise_affine=True)\n  (6): Dropout(p=0.1, inplace=False)\n  (7): Linear(in_features=768, out_features=3072, bias=True)\n  (8): Linear(in_features=3072, out_features=768, bias=True)\n  (9): LayerNorm((768,), eps=1e-05, elementwise_affine=True)\n  (10): Dropout(p=0.1, inplace=False)\n), Sequential(\n  (0): Linear(in_features=768, out_features=768, bias=True)\n  (1): Linear(in_features=768, out_features=768, bias=True)\n  (2): Linear(in_features=768, out_features=768, bias=True)\n  (3): Dropout(p=0.1, inplace=False)\n  (4): Linear(in_features=768, out_features=768, bias=True)\n  (5): LayerNorm((768,), eps=1e-05, elementwise_affine=True)\n  (6): Dropout(p=0.1, inplace=False)\n  (7): Linear(in_features=768, out_features=3072, bias=True)\n  (8): Linear(in_features=3072, out_features=768, bias=True)\n  (9): LayerNorm((768,), eps=1e-05, elementwise_affine=True)\n  (10): Dropout(p=0.1, inplace=False)\n), Sequential(\n  (0): Linear(in_features=768, out_features=768, bias=True)\n  (1): Linear(in_features=768, out_features=768, bias=True)\n  (2): Linear(in_features=768, out_features=768, bias=True)\n  (3): Dropout(p=0.1, inplace=False)\n  (4): Linear(in_features=768, out_features=768, bias=True)\n  (5): LayerNorm((768,), eps=1e-05, elementwise_affine=True)\n  (6): Dropout(p=0.1, inplace=False)\n  (7): Linear(in_features=768, out_features=3072, bias=True)\n  (8): Linear(in_features=3072, out_features=768, bias=True)\n  (9): LayerNorm((768,), eps=1e-05, elementwise_affine=True)\n  (10): Dropout(p=0.1, inplace=False)\n), Sequential(\n  (0): Linear(in_features=768, out_features=768, bias=True)\n  (1): Linear(in_features=768, out_features=768, bias=True)\n  (2): Linear(in_features=768, out_features=768, bias=True)\n  (3): Dropout(p=0.1, inplace=False)\n  (4): Linear(in_features=768, out_features=768, bias=True)\n  (5): LayerNorm((768,), eps=1e-05, elementwise_affine=True)\n  (6): Dropout(p=0.1, inplace=False)\n  (7): Linear(in_features=768, out_features=3072, bias=True)\n  (8): Linear(in_features=3072, out_features=768, bias=True)\n  (9): LayerNorm((768,), eps=1e-05, elementwise_affine=True)\n  (10): Dropout(p=0.1, inplace=False)\n), Sequential(\n  (0): Linear(in_features=768, out_features=768, bias=True)\n  (1): Tanh()\n  (2): Linear(in_features=768, out_features=768, bias=True)\n  (3): Dropout(p=0.1, inplace=False)\n  (4): Linear(in_features=768, out_features=5, bias=True)\n)], add_time=True, silent=False)"
     },
     "metadata": {},
     "output_type": "execute_result",
     "execution_count": 26
    }
   ],
   "source": [
    "seed_all(seed)\n",
    "learner.load('untrain')"
   ],
   "metadata": {
    "collapsed": false,
    "pycharm": {
     "name": "#%%\n",
     "is_executing": false
    }
   }
  },
  {
   "cell_type": "code",
   "execution_count": 27,
   "outputs": [],
   "source": [
    "learner.freeze_to(-1)"
   ],
   "metadata": {
    "collapsed": false,
    "pycharm": {
     "name": "#%%\n",
     "is_executing": false
    }
   }
  },
  {
   "cell_type": "code",
   "execution_count": 28,
   "outputs": [
    {
     "data": {
      "text/plain": "CustomTransformerModel\n======================================================================\nLayer (type)         Output Shape         Param #    Trainable \n======================================================================\nEmbedding            [79, 768]            38,603,520 False     \n______________________________________________________________________\nEmbedding            [79, 768]            394,752    False     \n______________________________________________________________________\nEmbedding            [79, 768]            768        False     \n______________________________________________________________________\nLayerNorm            [79, 768]            1,536      False     \n______________________________________________________________________\nDropout              [79, 768]            0          False     \n______________________________________________________________________\nLinear               [79, 768]            590,592    False     \n______________________________________________________________________\nLinear               [79, 768]            590,592    False     \n______________________________________________________________________\nLinear               [79, 768]            590,592    False     \n______________________________________________________________________\nDropout              [12, 79, 79]         0          False     \n______________________________________________________________________\nLinear               [79, 768]            590,592    False     \n______________________________________________________________________\nLayerNorm            [79, 768]            1,536      False     \n______________________________________________________________________\nDropout              [79, 768]            0          False     \n______________________________________________________________________\nLinear               [79, 3072]           2,362,368  False     \n______________________________________________________________________\nLinear               [79, 768]            2,360,064  False     \n______________________________________________________________________\nLayerNorm            [79, 768]            1,536      False     \n______________________________________________________________________\nDropout              [79, 768]            0          False     \n______________________________________________________________________\nLinear               [79, 768]            590,592    False     \n______________________________________________________________________\nLinear               [79, 768]            590,592    False     \n______________________________________________________________________\nLinear               [79, 768]            590,592    False     \n______________________________________________________________________\nDropout              [12, 79, 79]         0          False     \n______________________________________________________________________\nLinear               [79, 768]            590,592    False     \n______________________________________________________________________\nLayerNorm            [79, 768]            1,536      False     \n______________________________________________________________________\nDropout              [79, 768]            0          False     \n______________________________________________________________________\nLinear               [79, 3072]           2,362,368  False     \n______________________________________________________________________\nLinear               [79, 768]            2,360,064  False     \n______________________________________________________________________\nLayerNorm            [79, 768]            1,536      False     \n______________________________________________________________________\nDropout              [79, 768]            0          False     \n______________________________________________________________________\nLinear               [79, 768]            590,592    False     \n______________________________________________________________________\nLinear               [79, 768]            590,592    False     \n______________________________________________________________________\nLinear               [79, 768]            590,592    False     \n______________________________________________________________________\nDropout              [12, 79, 79]         0          False     \n______________________________________________________________________\nLinear               [79, 768]            590,592    False     \n______________________________________________________________________\nLayerNorm            [79, 768]            1,536      False     \n______________________________________________________________________\nDropout              [79, 768]            0          False     \n______________________________________________________________________\nLinear               [79, 3072]           2,362,368  False     \n______________________________________________________________________\nLinear               [79, 768]            2,360,064  False     \n______________________________________________________________________\nLayerNorm            [79, 768]            1,536      False     \n______________________________________________________________________\nDropout              [79, 768]            0          False     \n______________________________________________________________________\nLinear               [79, 768]            590,592    False     \n______________________________________________________________________\nLinear               [79, 768]            590,592    False     \n______________________________________________________________________\nLinear               [79, 768]            590,592    False     \n______________________________________________________________________\nDropout              [12, 79, 79]         0          False     \n______________________________________________________________________\nLinear               [79, 768]            590,592    False     \n______________________________________________________________________\nLayerNorm            [79, 768]            1,536      False     \n______________________________________________________________________\nDropout              [79, 768]            0          False     \n______________________________________________________________________\nLinear               [79, 3072]           2,362,368  False     \n______________________________________________________________________\nLinear               [79, 768]            2,360,064  False     \n______________________________________________________________________\nLayerNorm            [79, 768]            1,536      False     \n______________________________________________________________________\nDropout              [79, 768]            0          False     \n______________________________________________________________________\nLinear               [79, 768]            590,592    False     \n______________________________________________________________________\nLinear               [79, 768]            590,592    False     \n______________________________________________________________________\nLinear               [79, 768]            590,592    False     \n______________________________________________________________________\nDropout              [12, 79, 79]         0          False     \n______________________________________________________________________\nLinear               [79, 768]            590,592    False     \n______________________________________________________________________\nLayerNorm            [79, 768]            1,536      False     \n______________________________________________________________________\nDropout              [79, 768]            0          False     \n______________________________________________________________________\nLinear               [79, 3072]           2,362,368  False     \n______________________________________________________________________\nLinear               [79, 768]            2,360,064  False     \n______________________________________________________________________\nLayerNorm            [79, 768]            1,536      False     \n______________________________________________________________________\nDropout              [79, 768]            0          False     \n______________________________________________________________________\nLinear               [79, 768]            590,592    False     \n______________________________________________________________________\nLinear               [79, 768]            590,592    False     \n______________________________________________________________________\nLinear               [79, 768]            590,592    False     \n______________________________________________________________________\nDropout              [12, 79, 79]         0          False     \n______________________________________________________________________\nLinear               [79, 768]            590,592    False     \n______________________________________________________________________\nLayerNorm            [79, 768]            1,536      False     \n______________________________________________________________________\nDropout              [79, 768]            0          False     \n______________________________________________________________________\nLinear               [79, 3072]           2,362,368  False     \n______________________________________________________________________\nLinear               [79, 768]            2,360,064  False     \n______________________________________________________________________\nLayerNorm            [79, 768]            1,536      False     \n______________________________________________________________________\nDropout              [79, 768]            0          False     \n______________________________________________________________________\nLinear               [79, 768]            590,592    False     \n______________________________________________________________________\nLinear               [79, 768]            590,592    False     \n______________________________________________________________________\nLinear               [79, 768]            590,592    False     \n______________________________________________________________________\nDropout              [12, 79, 79]         0          False     \n______________________________________________________________________\nLinear               [79, 768]            590,592    False     \n______________________________________________________________________\nLayerNorm            [79, 768]            1,536      False     \n______________________________________________________________________\nDropout              [79, 768]            0          False     \n______________________________________________________________________\nLinear               [79, 3072]           2,362,368  False     \n______________________________________________________________________\nLinear               [79, 768]            2,360,064  False     \n______________________________________________________________________\nLayerNorm            [79, 768]            1,536      False     \n______________________________________________________________________\nDropout              [79, 768]            0          False     \n______________________________________________________________________\nLinear               [79, 768]            590,592    False     \n______________________________________________________________________\nLinear               [79, 768]            590,592    False     \n______________________________________________________________________\nLinear               [79, 768]            590,592    False     \n______________________________________________________________________\nDropout              [12, 79, 79]         0          False     \n______________________________________________________________________\nLinear               [79, 768]            590,592    False     \n______________________________________________________________________\nLayerNorm            [79, 768]            1,536      False     \n______________________________________________________________________\nDropout              [79, 768]            0          False     \n______________________________________________________________________\nLinear               [79, 3072]           2,362,368  False     \n______________________________________________________________________\nLinear               [79, 768]            2,360,064  False     \n______________________________________________________________________\nLayerNorm            [79, 768]            1,536      False     \n______________________________________________________________________\nDropout              [79, 768]            0          False     \n______________________________________________________________________\nLinear               [79, 768]            590,592    False     \n______________________________________________________________________\nLinear               [79, 768]            590,592    False     \n______________________________________________________________________\nLinear               [79, 768]            590,592    False     \n______________________________________________________________________\nDropout              [12, 79, 79]         0          False     \n______________________________________________________________________\nLinear               [79, 768]            590,592    False     \n______________________________________________________________________\nLayerNorm            [79, 768]            1,536      False     \n______________________________________________________________________\nDropout              [79, 768]            0          False     \n______________________________________________________________________\nLinear               [79, 3072]           2,362,368  False     \n______________________________________________________________________\nLinear               [79, 768]            2,360,064  False     \n______________________________________________________________________\nLayerNorm            [79, 768]            1,536      False     \n______________________________________________________________________\nDropout              [79, 768]            0          False     \n______________________________________________________________________\nLinear               [79, 768]            590,592    False     \n______________________________________________________________________\nLinear               [79, 768]            590,592    False     \n______________________________________________________________________\nLinear               [79, 768]            590,592    False     \n______________________________________________________________________\nDropout              [12, 79, 79]         0          False     \n______________________________________________________________________\nLinear               [79, 768]            590,592    False     \n______________________________________________________________________\nLayerNorm            [79, 768]            1,536      False     \n______________________________________________________________________\nDropout              [79, 768]            0          False     \n______________________________________________________________________\nLinear               [79, 3072]           2,362,368  False     \n______________________________________________________________________\nLinear               [79, 768]            2,360,064  False     \n______________________________________________________________________\nLayerNorm            [79, 768]            1,536      False     \n______________________________________________________________________\nDropout              [79, 768]            0          False     \n______________________________________________________________________\nLinear               [79, 768]            590,592    False     \n______________________________________________________________________\nLinear               [79, 768]            590,592    False     \n______________________________________________________________________\nLinear               [79, 768]            590,592    False     \n______________________________________________________________________\nDropout              [12, 79, 79]         0          False     \n______________________________________________________________________\nLinear               [79, 768]            590,592    False     \n______________________________________________________________________\nLayerNorm            [79, 768]            1,536      False     \n______________________________________________________________________\nDropout              [79, 768]            0          False     \n______________________________________________________________________\nLinear               [79, 3072]           2,362,368  False     \n______________________________________________________________________\nLinear               [79, 768]            2,360,064  False     \n______________________________________________________________________\nLayerNorm            [79, 768]            1,536      False     \n______________________________________________________________________\nDropout              [79, 768]            0          False     \n______________________________________________________________________\nLinear               [79, 768]            590,592    False     \n______________________________________________________________________\nLinear               [79, 768]            590,592    False     \n______________________________________________________________________\nLinear               [79, 768]            590,592    False     \n______________________________________________________________________\nDropout              [12, 79, 79]         0          False     \n______________________________________________________________________\nLinear               [79, 768]            590,592    False     \n______________________________________________________________________\nLayerNorm            [79, 768]            1,536      False     \n______________________________________________________________________\nDropout              [79, 768]            0          False     \n______________________________________________________________________\nLinear               [79, 3072]           2,362,368  False     \n______________________________________________________________________\nLinear               [79, 768]            2,360,064  False     \n______________________________________________________________________\nLayerNorm            [79, 768]            1,536      False     \n______________________________________________________________________\nDropout              [79, 768]            0          False     \n______________________________________________________________________\nLinear               [768]                590,592    True      \n______________________________________________________________________\nTanh                 [768]                0          False     \n______________________________________________________________________\nLinear               [768]                590,592    True      \n______________________________________________________________________\nDropout              [768]                0          False     \n______________________________________________________________________\nLinear               [5]                  3,845      True      \n______________________________________________________________________\n\nTotal params: 125,240,069\nTotal trainable params: 1,185,029\nTotal non-trainable params: 124,055,040\nOptimized with 'transformers.optimization.AdamW', correct_bias=False\nUsing true weight decay as discussed in https://www.fast.ai/2018/07/02/adam-weight-decay/ \nLoss function : FlattenedLoss\n======================================================================\nCallbacks functions applied \n    ShowGraph"
     },
     "metadata": {},
     "output_type": "execute_result",
     "execution_count": 28
    }
   ],
   "source": [
    "learner.summary()"
   ],
   "metadata": {
    "collapsed": false,
    "pycharm": {
     "name": "#%%\n",
     "is_executing": false
    }
   }
  },
  {
   "cell_type": "code",
   "execution_count": 29,
   "outputs": [
    {
     "data": {
      "text/plain": "<IPython.core.display.HTML object>",
      "text/html": "\n    <div>\n        <style>\n            /* Turns off some styling */\n            progress {\n                /* gets rid of default border in Firefox and Opera. */\n                border: none;\n                /* Needs to be in here for Safari polyfill so background images work as expected. */\n                background-size: auto;\n            }\n            .progress-bar-interrupted, .progress-bar-interrupted::-webkit-progress-bar {\n                background: #F44336;\n            }\n        </style>\n      <progress value='0' class='' max='1', style='width:300px; height:20px; vertical-align: middle;'></progress>\n      \n    </div>\n    \n"
     },
     "metadata": {},
     "output_type": "display_data"
    },
    {
     "name": "stdout",
     "text": [
      "LR Finder is complete, type {learner_name}.recorder.plot() to see the graph.\n"
     ],
     "output_type": "stream"
    }
   ],
   "source": [
    "learner.lr_find()"
   ],
   "metadata": {
    "collapsed": false,
    "pycharm": {
     "name": "#%%\n",
     "is_executing": false
    }
   }
  },
  {
   "cell_type": "code",
   "execution_count": 31,
   "outputs": [
    {
     "name": "stdout",
     "text": [
      "Min numerical gradient: 9.12E-05\nMin loss divided by 10: 1.91E-05\n"
     ],
     "output_type": "stream"
    },
    {
     "data": {
      "text/plain": "<Figure size 432x288 with 1 Axes>",
      "image/png": "[encoded data removed]"
     },
     "metadata": {
      "needs_background": "light"
     },
     "output_type": "display_data"
    }
   ],
   "source": [
    "learner.recorder.plot(skip_end=10, suggestion=True)"
   ],
   "metadata": {
    "collapsed": false,
    "pycharm": {
     "name": "#%%\n",
     "is_executing": false
    }
   }
  },
  {
   "cell_type": "code",
   "execution_count": 32,
   "outputs": [
    {
     "data": {
      "text/plain": "<IPython.core.display.HTML object>",
      "text/html": "\n    <div>\n        <style>\n            /* Turns off some styling */\n            progress {\n                /* gets rid of default border in Firefox and Opera. */\n                border: none;\n                /* Needs to be in here for Safari polyfill so background images work as expected. */\n                background-size: auto;\n            }\n            .progress-bar-interrupted, .progress-bar-interrupted::-webkit-progress-bar {\n                background: #F44336;\n            }\n        </style>\n      <progress value='0' class='' max='1', style='width:300px; height:20px; vertical-align: middle;'></progress>\n      \n    </div>\n    \n"
     },
     "metadata": {},
     "output_type": "display_data"
    },
    {
     "data": {
      "text/plain": "<Figure size 432x288 with 1 Axes>",
      "image/png": "[encoded data removed]"
     },
     "metadata": {},
     "output_type": "display_data"
    }
   ],
   "source": [
    "learner.fit_one_cycle(1, max_lr=8e-5, moms=(0.8, 0.7))"
   ],
   "metadata": {
    "collapsed": false,
    "pycharm": {
     "name": "#%%\n",
     "is_executing": false
    }
   }
  },
  {
   "cell_type": "code",
   "execution_count": 33,
   "outputs": [],
   "source": [
    "learner.save('first_cycle')"
   ],
   "metadata": {
    "collapsed": false,
    "pycharm": {
     "name": "#%%\n",
     "is_executing": false
    }
   }
  },
  {
   "cell_type": "code",
   "execution_count": null,
   "outputs": [],
   "source": [
    "seed_all(seed)\n",
    "learner.load('first_cycle')"
   ],
   "metadata": {
    "collapsed": false,
    "pycharm": {
     "name": "#%%\n"
    }
   }
  },
  {
   "cell_type": "code",
   "execution_count": null,
   "outputs": [],
   "source": [
    "learner.freeze_to(-2)"
   ],
   "metadata": {
    "collapsed": false,
    "pycharm": {
     "name": "#%%\n"
    }
   }
  },
  {
   "cell_type": "code",
   "execution_count": null,
   "outputs": [],
   "source": [
    "lr = 1e-5"
   ],
   "metadata": {
    "collapsed": false,
    "pycharm": {
     "name": "#%%\n"
    }
   }
  },
  {
   "cell_type": "code",
   "execution_count": null,
   "outputs": [],
   "source": [
    "learner.fit_one_cycle(1, max_lr=slice(lr*0.95**num_groups, lr), moms=(0.8, 0.9))"
   ],
   "metadata": {
    "collapsed": false,
    "pycharm": {
     "name": "#%%\n"
    }
   }
  },
  {
   "cell_type": "code",
   "execution_count": null,
   "outputs": [],
   "source": [
    "learner.save('second_cycle')"
   ],
   "metadata": {
    "collapsed": false,
    "pycharm": {
     "name": "#%%\n"
    }
   }
  },
  {
   "cell_type": "code",
   "execution_count": null,
   "outputs": [],
   "source": [
    "seed_all(seed)\n",
    "learner.load('second_cycle')"
   ],
   "metadata": {
    "collapsed": false,
    "pycharm": {
     "name": "#%%\n"
    }
   }
  },
  {
   "cell_type": "code",
   "execution_count": null,
   "outputs": [],
   "source": [
    "learner.freeze_to(-3)"
   ],
   "metadata": {
    "collapsed": false,
    "pycharm": {
     "name": "#%%\n"
    }
   }
  },
  {
   "cell_type": "code",
   "execution_count": null,
   "outputs": [],
   "source": [
    "learner.fit_one_cycle(1, max_lr=slice(lr*0.95**num_groups, lr), moms=(0.8, 0.9))"
   ],
   "metadata": {
    "collapsed": false,
    "pycharm": {
     "name": "#%%\n"
    }
   }
  },
  {
   "cell_type": "code",
   "execution_count": null,
   "outputs": [],
   "source": [
    "learner.save('third_cycle')"
   ],
   "metadata": {
    "collapsed": false,
    "pycharm": {
     "name": "#%%\n"
    }
   }
  },
  {
   "cell_type": "code",
   "execution_count": null,
   "outputs": [],
   "source": [
    "seed_all(seed)\n",
    "learner.load('third_cycle')"
   ],
   "metadata": {
    "collapsed": false,
    "pycharm": {
     "name": "#%%\n"
    }
   }
  },
  {
   "cell_type": "code",
   "execution_count": null,
   "outputs": [],
   "source": [
    "learner.unfreeze()"
   ],
   "metadata": {
    "collapsed": false,
    "pycharm": {
     "name": "#%%\n"
    }
   }
  },
  {
   "cell_type": "code",
   "execution_count": null,
   "outputs": [],
   "source": [
    "learner.fit_one_cycle(2, max_lr=slice(lr*0.95**num_groups, lr), moms=(0.8, 0.9))"
   ],
   "metadata": {
    "collapsed": false,
    "pycharm": {
     "name": "#%%\n"
    }
   }
  },
  {
   "cell_type": "code",
   "execution_count": null,
   "outputs": [],
   "source": [
    "learner.predict('This is the best movie of 2020')"
   ],
   "metadata": {
    "collapsed": false,
    "pycharm": {
     "name": "#%%\n"
    }
   }
  },
  {
   "cell_type": "code",
   "execution_count": null,
   "outputs": [],
   "source": [
    "learner.predict('This is the worst movie of 2020')"
   ],
   "metadata": {
    "collapsed": false,
    "pycharm": {
     "name": "#%%\n"
    }
   }
  },
  {
   "cell_type": "code",
   "execution_count": null,
   "outputs": [],
   "source": [
    "learner.export(file = 'transformer.pkl')"
   ],
   "metadata": {
    "collapsed": false,
    "pycharm": {
     "name": "#%%\n"
    }
   }
  },
  {
   "cell_type": "code",
   "execution_count": null,
   "outputs": [],
   "source": [
    "export_learner = load_learner(path, file = 'transformer.pkl')"
   ],
   "metadata": {
    "collapsed": false,
    "pycharm": {
     "name": "#%%\n"
    }
   }
  },
  {
   "cell_type": "code",
   "execution_count": null,
   "outputs": [],
   "source": [
    "export_learner.predict('This is the worst movie of 2020')"
   ],
   "metadata": {
    "collapsed": false,
    "pycharm": {
     "name": "#%%\n"
    }
   }
  },
  {
   "cell_type": "code",
   "execution_count": null,
   "outputs": [],
   "source": [
    "def get_preds_as_nparray(ds_type) -> np.ndarray:\n",
    "    \"\"\"\n",
    "    the get_preds method does not yield the elements in order by default\n",
    "    we borrow the code from the RNNLearner to resort the elements into their correct order\n",
    "    \"\"\"\n",
    "    preds = learner.get_preds(ds_type)[0].detach().cpu().numpy()\n",
    "    sampler = [i for i in databunch.dl(ds_type).sampler]\n",
    "    reverse_sampler = np.argsort(sampler)\n",
    "    return preds[reverse_sampler, :]"
   ],
   "metadata": {
    "collapsed": false,
    "pycharm": {
     "name": "#%%\n"
    }
   }
  },
  {
   "cell_type": "code",
   "execution_count": null,
   "outputs": [],
   "source": [
    "test_preds = get_preds_as_nparray(DatasetType.Test)"
   ],
   "metadata": {
    "collapsed": false,
    "pycharm": {
     "name": "#%%\n"
    }
   }
  },
  {
   "cell_type": "code",
   "execution_count": null,
   "outputs": [],
   "source": [
    "sample_submission = pd.read_csv(path / 'sampleSubmission.csv')\n",
    "sample_submission['Sentiment'] = np.argmax(test_preds,axis=1)\n",
    "sample_submission.to_csv(\"predictions.csv\", index=False)"
   ],
   "metadata": {
    "collapsed": false,
    "pycharm": {
     "name": "#%%\n"
    }
   }
  },
  {
   "cell_type": "code",
   "execution_count": null,
   "outputs": [],
   "source": [
    "from IPython.display import HTML\n",
    "\n",
    "def create_download_link(title = \"Download CSV file\", filename = \"data.csv\"):  \n",
    "    html = '<a href={filename}>{title}</a>'\n",
    "    html = html.format(title=title,filename=filename)\n",
    "    return HTML(html)\n",
    "\n",
    "# create a link to download the dataframe which was saved with .to_csv method\n",
    "create_download_link(filename='predictions.csv')\n"
   ],
   "metadata": {
    "collapsed": false,
    "pycharm": {
     "name": "#%%\n"
    }
   }
  }
 ],
 "metadata": {
  "kernelspec": {
   "display_name": "Python 3",
   "language": "python",
   "name": "python3"
  },
  "language_info": {
   "codemirror_mode": {
    "name": "ipython",
    "version": 2
   },
   "file_extension": ".py",
   "mimetype": "text/x-python",
   "name": "python",
   "nbconvert_exporter": "python",
   "pygments_lexer": "ipython2",
   "version": "2.7.6"
  },
  "pycharm": {
   "stem_cell": {
    "cell_type": "raw",
    "source": [],
    "metadata": {
     "collapsed": false
    }
   }
  }
 },
 "nbformat": 4,
 "nbformat_minor": 0
}